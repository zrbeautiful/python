{
 "cells": [
  {
   "cell_type": "markdown",
   "metadata": {},
   "source": [
    "# 更多字符串和特殊方法\n",
    "- 前面我们已经学了类，在Python中还有一些特殊的方法起着非常重要的作用，这里会介绍一些特殊的方法和运算符的重载，以及使用特殊方法设计类"
   ]
  },
  {
   "cell_type": "markdown",
   "metadata": {},
   "source": [
    "## str 类\n",
    "- 一个str对象是不可变的，也就是说，一旦创建了这个字符串，那么它的内容在认为不改变的情况下是不会变的\n",
    "- s1 = str()\n",
    "- s2 = str('welcome to Python')"
   ]
  },
  {
   "cell_type": "code",
   "execution_count": 1,
   "metadata": {},
   "outputs": [
    {
     "name": "stdout",
     "output_type": "stream",
     "text": [
      "zzz\n"
     ]
    }
   ],
   "source": [
    "a='zzz'\n",
    "print(a)"
   ]
  },
  {
   "cell_type": "code",
   "execution_count": 3,
   "metadata": {},
   "outputs": [
    {
     "data": {
      "text/plain": [
       "'353353'"
      ]
     },
     "execution_count": 3,
     "metadata": {},
     "output_type": "execute_result"
    }
   ],
   "source": [
    "b=str(353353)\n",
    "b"
   ]
  },
  {
   "cell_type": "code",
   "execution_count": null,
   "metadata": {},
   "outputs": [],
   "source": []
  },
  {
   "cell_type": "markdown",
   "metadata": {},
   "source": [
    "## 创建两个对象，分别观察两者id\n",
    "- id为Python内存地址"
   ]
  },
  {
   "cell_type": "code",
   "execution_count": 4,
   "metadata": {},
   "outputs": [
    {
     "name": "stdout",
     "output_type": "stream",
     "text": [
      "1940203743640\n",
      "1940203743640\n"
     ]
    }
   ],
   "source": [
    "print(id('a'))\n",
    "print(id('a'))"
   ]
  },
  {
   "cell_type": "markdown",
   "metadata": {},
   "source": [
    "## 处理字符串的函数\n",
    "- len\n",
    "- max\n",
    "- min\n",
    "- 字符串一切是按照ASCII码值进行比较"
   ]
  },
  {
   "cell_type": "code",
   "execution_count": 1,
   "metadata": {},
   "outputs": [
    {
     "data": {
      "text/plain": [
       "4"
      ]
     },
     "execution_count": 1,
     "metadata": {},
     "output_type": "execute_result"
    }
   ],
   "source": [
    "len('abcd')"
   ]
  },
  {
   "cell_type": "code",
   "execution_count": 2,
   "metadata": {},
   "outputs": [
    {
     "name": "stdout",
     "output_type": "stream",
     "text": [
      "a\n",
      "b\n",
      "c\n",
      "d\n"
     ]
    }
   ],
   "source": [
    "i=0\n",
    "a='abcd'\n",
    "while i<len(a):\n",
    "    print(a[i])\n",
    "    i+=1"
   ]
  },
  {
   "cell_type": "markdown",
   "metadata": {},
   "source": [
    "## 下角标运算符 []\n",
    "- 一个字符串是一个字符序列，可以通过索引进行访问\n",
    "- 观察字符串是否是一个可迭代序列  \\__iter__"
   ]
  },
  {
   "cell_type": "code",
   "execution_count": 62,
   "metadata": {},
   "outputs": [
    {
     "data": {
      "text/plain": [
       "'x'"
      ]
     },
     "execution_count": 62,
     "metadata": {},
     "output_type": "execute_result"
    }
   ],
   "source": [
    "a='xianzhao'\n",
    "a[0:1]"
   ]
  },
  {
   "cell_type": "code",
   "execution_count": 63,
   "metadata": {},
   "outputs": [
    {
     "data": {
      "text/plain": [
       "'xianzha'"
      ]
     },
     "execution_count": 63,
     "metadata": {},
     "output_type": "execute_result"
    }
   ],
   "source": [
    "a[:-1]"
   ]
  },
  {
   "cell_type": "code",
   "execution_count": 64,
   "metadata": {},
   "outputs": [
    {
     "data": {
      "text/plain": [
       "'o'"
      ]
     },
     "execution_count": 64,
     "metadata": {},
     "output_type": "execute_result"
    }
   ],
   "source": [
    "a[-1:]"
   ]
  },
  {
   "cell_type": "code",
   "execution_count": 66,
   "metadata": {},
   "outputs": [
    {
     "data": {
      "text/plain": [
       "'x'"
      ]
     },
     "execution_count": 66,
     "metadata": {},
     "output_type": "execute_result"
    }
   ],
   "source": [
    "a[0:1]"
   ]
  },
  {
   "cell_type": "markdown",
   "metadata": {},
   "source": [
    "## 切片 [start: end]\n",
    "- start 默认值为0\n",
    "- end 默认值为-1"
   ]
  },
  {
   "cell_type": "code",
   "execution_count": null,
   "metadata": {},
   "outputs": [],
   "source": [
    "https://www.w3cschool.cn/python3/python3-string.html"
   ]
  },
  {
   "cell_type": "code",
   "execution_count": 13,
   "metadata": {},
   "outputs": [],
   "source": [
    "b='abcdef'"
   ]
  },
  {
   "cell_type": "code",
   "execution_count": 15,
   "metadata": {},
   "outputs": [
    {
     "data": {
      "text/plain": [
       "'ace'"
      ]
     },
     "execution_count": 15,
     "metadata": {},
     "output_type": "execute_result"
    }
   ],
   "source": [
    "b[0:6:2]"
   ]
  },
  {
   "cell_type": "markdown",
   "metadata": {},
   "source": [
    "## 链接运算符 + 和复制运算符 *\n",
    "- \\+ 链接多个字符串，同时''.join()也是\n",
    "- \\* 复制多个字符串"
   ]
  },
  {
   "cell_type": "code",
   "execution_count": 16,
   "metadata": {},
   "outputs": [
    {
     "data": {
      "text/plain": [
       "'sa'"
      ]
     },
     "execution_count": 16,
     "metadata": {},
     "output_type": "execute_result"
    }
   ],
   "source": [
    "'s'+'a'"
   ]
  },
  {
   "cell_type": "code",
   "execution_count": 17,
   "metadata": {},
   "outputs": [
    {
     "data": {
      "text/plain": [
       "'ss'"
      ]
     },
     "execution_count": 17,
     "metadata": {},
     "output_type": "execute_result"
    }
   ],
   "source": [
    "'s'*2"
   ]
  },
  {
   "cell_type": "code",
   "execution_count": 47,
   "metadata": {},
   "outputs": [
    {
     "name": "stdout",
     "output_type": "stream",
     "text": [
      "*****\n",
      "*   *\n",
      "*   *\n",
      "*****\n"
     ]
    }
   ],
   "source": [
    "for i in range(0,4):\n",
    "    if i==0 or i==3:\n",
    "         print('*'*5)\n",
    "    else:\n",
    "        print('*'+' '*3+'*')"
   ]
  },
  {
   "cell_type": "code",
   "execution_count": 48,
   "metadata": {},
   "outputs": [],
   "source": [
    "import requests"
   ]
  },
  {
   "cell_type": "markdown",
   "metadata": {},
   "source": [
    "## in 和 not in 运算符\n",
    "- in :判断某个字符是否在字符串内 \n",
    "- not in ：判断某个字符是否不在字符串内\n",
    "- 返回的是布尔值"
   ]
  },
  {
   "cell_type": "code",
   "execution_count": 36,
   "metadata": {},
   "outputs": [
    {
     "data": {
      "text/plain": [
       "True"
      ]
     },
     "execution_count": 36,
     "metadata": {},
     "output_type": "execute_result"
    }
   ],
   "source": [
    "'a'in 'aaa' #a在‘aaa’字符串中"
   ]
  },
  {
   "cell_type": "code",
   "execution_count": 49,
   "metadata": {},
   "outputs": [],
   "source": [
    "a='赵锐'\n",
    "b='赵'"
   ]
  },
  {
   "cell_type": "code",
   "execution_count": 51,
   "metadata": {},
   "outputs": [],
   "source": [
    "def m(a,b):\n",
    "    for i in a:\n",
    "        for j in b:\n",
    "            if i==j:\n",
    "                print('zai')\n",
    "    else:\n",
    "        print('buzai')\n"
   ]
  },
  {
   "cell_type": "code",
   "execution_count": 53,
   "metadata": {},
   "outputs": [
    {
     "name": "stdout",
     "output_type": "stream",
     "text": [
      "zai\n",
      "zai\n",
      "zai\n",
      "buzai\n"
     ]
    }
   ],
   "source": [
    "m('aaa','a')"
   ]
  },
  {
   "cell_type": "code",
   "execution_count": 3,
   "metadata": {},
   "outputs": [
    {
     "name": "stdout",
     "output_type": "stream",
     "text": [
      "165279069@qq.com\n",
      "\n",
      "154790981@qq.com\n",
      "\n",
      "139615818@qq.com\n",
      "\n",
      "11000@qq.com\n",
      "\n",
      "111111@qq.com\n",
      "\n",
      "195777728@qq.com\n",
      "\n",
      "136886754@qq.com\n",
      "\n",
      "1053633239@qq.com\n",
      "\n",
      "14153883@qq.com\n",
      "\n",
      "173835671@qq.com\n",
      "\n",
      "164744460@qq.com\n",
      "\n",
      "136713731@qq.com\n",
      "\n",
      "10459186@qq.com\n",
      "\n",
      "106319986@qq.com\n",
      "\n",
      "107561490@qq.com\n",
      "\n",
      "12850793@qq.com\n",
      "\n",
      "122663500@qq.com\n",
      "\n",
      "183995222@qq.com\n",
      "\n",
      "1064320261@qq.com\n",
      "\n",
      "105333196@qq.com\n",
      "\n",
      "1011337090@qq.com\n",
      "\n",
      "157607392@qq.com\n",
      "\n",
      "170920940@qq.com\n",
      "\n",
      "121402043@qq.com\n",
      "\n",
      "164905533@qq.com\n",
      "\n",
      "182268431@qq.com\n",
      "\n",
      "14738840@qq.com\n",
      "\n",
      "1054733780@qq.com\n",
      "\n",
      "188171417@qq.com\n",
      "\n",
      "195436209@qq.com\n",
      "\n",
      "122304714@qq.com\n",
      "\n",
      "181729393@qq.com\n",
      "\n",
      "124183777@qq.com\n",
      "\n",
      "1035368111@qq.com\n",
      "\n",
      "151427286@qq.com\n",
      "\n",
      "184703010@qq.com\n",
      "\n",
      "122231438@qq.com\n",
      "\n",
      "121191460@qq.com\n",
      "\n",
      "172489277@qq.com\n",
      "\n",
      "125673775@qq.com\n",
      "\n",
      "181228271@qq.com\n",
      "\n",
      "1010349796@qq.com\n",
      "\n",
      "138896264@qq.com\n",
      "\n",
      "154433684@qq.com\n",
      "\n",
      "104890168@qq.com\n",
      "\n",
      "120509355@qq.com\n",
      "\n",
      "120415323@qq.com\n",
      "\n",
      "181402929@qq.com\n",
      "\n",
      "183933870@qq.com\n",
      "\n",
      "183108615@qq.com\n",
      "\n",
      "123456@qq.com\n",
      "\n",
      "13217363@qq.com\n",
      "\n",
      "124120307@qq.com\n",
      "\n",
      "1718908@qq.com\n",
      "\n",
      "100890419@qq.com\n",
      "\n",
      "157213341@qq.com\n",
      "\n",
      "100201291@qq.com\n",
      "\n",
      "107780198@qq.com\n",
      "\n",
      "1065693111@qq.com\n",
      "\n",
      "179742067@qq.com\n",
      "\n",
      "181369183@qq.com\n",
      "\n",
      "12543456@qq.com\n",
      "\n",
      "156418296@qq.com\n",
      "\n",
      "151313705@qq.com\n",
      "\n",
      "1037799195@qq.com\n",
      "\n",
      "14781415@qq.com\n",
      "\n",
      "1045671096@qq.com\n",
      "\n",
      "123324346534@qq.com\n",
      "\n",
      "1004018737@qq.com\n",
      "\n",
      "123561948@qq.com\n",
      "\n",
      "15719431@qq.com\n",
      "\n",
      "156451277@qq.com\n",
      "\n",
      "12541652@qq.com\n",
      "\n",
      "16197555@qq.com\n",
      "\n",
      "1012621799@qq.com\n",
      "\n",
      "19308517@qq.com\n",
      "\n",
      "15633926@qq.com\n",
      "\n",
      "100900770@qq.com\n",
      "\n",
      "123@qq.com\n",
      "\n",
      "1281495@qq.com\n",
      "\n",
      "116225146@qq.com\n",
      "\n",
      "120888496@qq.com\n",
      "\n",
      "16668544@qq.com\n",
      "\n",
      "10@qq.com\n",
      "\n",
      "120028158@qq.com\n",
      "\n",
      "1052827140@qq.com\n",
      "\n",
      "149823171@qq.com\n",
      "\n",
      "191553014@qq.com\n",
      "\n",
      "106062417@qq.com\n",
      "\n",
      "1059846791@qq.com\n",
      "\n",
      "195106434@qq.com\n",
      "\n",
      "168040691@qq.com\n",
      "\n",
      "14709464@qq.com\n",
      "\n",
      "179847641@qq.com\n",
      "\n",
      "149384195@qq.com\n",
      "\n",
      "120794673@qq.com\n",
      "\n",
      "172954029@qq.com\n",
      "\n",
      "153687540@qq.com\n",
      "\n",
      "125655428@qq.com\n",
      "\n",
      "155043470@qq.com\n",
      "\n",
      "12@qq.com\n",
      "\n",
      "13425345@qq.com\n",
      "\n",
      "115815440@qq.com\n",
      "\n",
      "151273090@qq.com\n",
      "\n",
      "1716225@qq.com\n",
      "\n",
      "178350606@qq.com\n",
      "\n",
      "111111@qq.com\n",
      "\n",
      "123782484@qq.com\n",
      "\n",
      "16562@qq.com\n",
      "\n",
      "103859589@qq.com\n",
      "\n",
      "113376425@qq.com\n",
      "\n",
      "17695642@qq.com\n",
      "\n",
      "17567462@qq.com\n",
      "\n",
      "113066574@qq.com\n",
      "\n",
      "174416162@qq.com\n",
      "\n",
      "154039908@qq.com\n",
      "\n",
      "182153123@qq.com\n",
      "\n",
      "10195924@qq.com\n",
      "\n",
      "112129349@qq.com\n",
      "\n",
      "181848736@qq.com\n",
      "\n",
      "121888565@qq.com\n",
      "\n",
      "14388540@qq.com\n",
      "\n",
      "1128199@qq.com\n",
      "\n",
      "181201361@qq.com\n",
      "\n",
      "179876935@qq.com\n",
      "\n",
      "171406543@qq.com\n",
      "\n",
      "121181895@qq.com\n",
      "\n",
      "122677009@qq.com\n",
      "\n",
      "136867066@qq.com\n",
      "\n",
      "122511528@qq.com\n",
      "\n",
      "17295402@qq.com\n",
      "\n",
      "104381523@qq.com\n",
      "\n",
      "123456@qq.com\n",
      "\n",
      "155461298@qq.com\n",
      "\n",
      "158903057@qq.com\n",
      "\n",
      "168889977@qq.com\n",
      "\n",
      "137424768@qq.com\n",
      "\n",
      "163456411@qq.com\n",
      "\n",
      "181480847@qq.com\n",
      "\n",
      "136473800@qq.com\n",
      "\n",
      "1233456@qq.com\n",
      "\n",
      "1124155@qq.com\n",
      "\n",
      "184767161@qq.com\n",
      "\n",
      "180898834@qq.com\n",
      "\n",
      "1059265846@qq.com\n",
      "\n",
      "191687938@qq.com\n",
      "\n",
      "123@qq.com\n",
      "\n",
      "123122d@qq.com\n",
      "\n",
      "173024310@qq.com\n",
      "\n",
      "115382069@qq.com\n",
      "\n",
      "135004456@qq.com\n",
      "\n",
      "121763469@qq.com\n",
      "\n",
      "108378733@qq.com\n",
      "\n",
      "125328384@qq.com\n",
      "\n",
      "125499766@qq.com\n",
      "\n",
      "176646122@qq.com\n",
      "\n",
      "1711325956@qq.com\n",
      "\n",
      "122389297@qq.com\n",
      "\n",
      "158282109@qq.com\n",
      "\n",
      "109573349@qq.com\n",
      "\n",
      "188157088@qq.com\n",
      "\n",
      "157908408@qq.com\n",
      "\n",
      "14468588@qq.com\n",
      "\n",
      "17880866@qq.com\n",
      "\n",
      "11075153@qq.com\n",
      "\n",
      "123709896@qq.com\n",
      "\n",
      "11139634@qq.com\n",
      "\n",
      "123983776@qq.com\n",
      "\n",
      "114036172@qq.com\n",
      "\n",
      "160273420@qq.com\n",
      "\n",
      "149841358@qq.com\n",
      "\n",
      "181442753@qq.com\n",
      "\n",
      "199251010@qq.com\n",
      "\n",
      "123792735@qq.com\n",
      "\n",
      "119561909@qq.com\n",
      "\n",
      "183928988@qq.com\n",
      "\n",
      "19871230@qq.com\n",
      "\n",
      "12983501@qq.com\n",
      "\n",
      "157769261@qq.com\n",
      "\n",
      "170098444@qq.com\n",
      "\n",
      "188033044@qq.com\n",
      "\n",
      "158368579@qq.com\n",
      "\n",
      "164744460@qq.com\n",
      "\n",
      "123@qq.com\n",
      "\n",
      "120221663@qq.com\n",
      "\n",
      "175624469@qq.com\n",
      "\n",
      "1604020@qq.com\n",
      "\n",
      "18558274@qq.com\n",
      "\n",
      "104694794@qq.com\n",
      "\n",
      "17764341@qq.com\n",
      "\n",
      "17861376@qq.com\n",
      "\n",
      "199676909@qq.com\n",
      "\n",
      "182877159@qq.com\n",
      "\n",
      "123@qq.com\n",
      "\n",
      "105006866@qq.com\n",
      "\n",
      "14442809@qq.com\n",
      "\n",
      "113649241@qq.com\n",
      "\n",
      "122466263@qq.com\n",
      "\n",
      "199211038@qq.com\n",
      "\n",
      "174700190@qq.com\n",
      "\n",
      "124180441@qq.com\n",
      "\n",
      "183603272@qq.com\n",
      "\n",
      "1dragon5235@qq.com\n",
      "\n",
      "109807899@qq.com\n",
      "\n",
      "188588586@qq.com\n",
      "\n",
      "16679338@vip.qq.com\n",
      "\n",
      "124087617@qq.com\n",
      "\n",
      "119229446@qq.com\n",
      "\n",
      "19275248@qq.com\n",
      "\n",
      "120254246@qq.com\n",
      "\n",
      "121000929@qq.com\n",
      "\n",
      "103133372@qq.com\n",
      "\n",
      "1005840818@qq.com\n",
      "\n",
      "124068203@qq.com\n",
      "\n",
      "115003192@qq.com\n",
      "\n",
      "136413783@qq.com\n",
      "\n",
      "10109481@qq.com\n",
      "\n",
      "1595411@qq.com\n",
      "\n",
      "165677287@qq.com\n",
      "\n",
      "158619548@qq.com\n",
      "\n",
      "17582210@qq.com\n",
      "\n",
      "136626575@qq.com\n",
      "\n",
      "124506135@qq.com\n",
      "\n",
      "116788390@qq.com\n",
      "\n",
      "195481428@qq.com\n",
      "\n",
      "1615434@qq.com\n",
      "\n",
      "178915657@qq.com\n",
      "\n",
      "136041283@qq.com\n",
      "\n",
      "120744227@qq.com\n",
      "\n",
      "171058395@qq.com\n",
      "\n",
      "106228094@qq.com\n",
      "\n",
      "19880903@qq.com\n",
      "\n",
      "119643527@qq.com.cn\n",
      "\n",
      "121078784@qq.com\n",
      "\n",
      "105525410@qq.com\n",
      "\n",
      "1030677179@qq.com.cn\n",
      "\n",
      "12343@qq.com\n",
      "\n",
      "1851huhuhgg@qq.com\n",
      "\n",
      "11314018@qq.com\n",
      "\n",
      "170392504@qq.com\n",
      "\n",
      "120580131@qq.com\n",
      "\n",
      "136413783@qq.com\n",
      "\n",
      "14693744@qq.com\n",
      "\n",
      "184175179@qq.com\n",
      "\n",
      "10036654@qq.com\n",
      "\n",
      "110801174@qq.com\n",
      "\n",
      "174465400@qq.com\n",
      "\n",
      "197632846@qq.com\n",
      "\n",
      "14646359@qq.com\n",
      "\n",
      "119643527@qq.com.cn\n",
      "\n",
      "112450030@qq.com\n",
      "\n",
      "120781269@qq.com\n",
      "\n",
      "1231241324@qq.com\n",
      "\n",
      "159654236@qq.com\n",
      "\n",
      "1016039930@qq.com\n",
      "\n",
      "100910412@qq.com\n",
      "\n",
      "170132004@qq.com\n",
      "\n",
      "170084270@qq.com\n",
      "\n",
      "154408009@qq.com\n",
      "\n",
      "119639463@qq.com\n",
      "\n",
      "120193755@qq.com\n",
      "\n",
      "19583109@qq.com\n",
      "\n",
      "172278416@qq.com\n",
      "\n",
      "115218983@qq.com\n",
      "\n",
      "155270835@qq.com\n",
      "\n",
      "191778339@qq.com\n",
      "\n",
      "100194521@qq.com\n",
      "\n",
      "164469159@qq.com\n",
      "\n",
      "1074440388@qq.com\n",
      "\n",
      "18779268@qq.com\n",
      "\n",
      "179878367@.qq.com\n",
      "\n",
      "191010831@qq.com\n",
      "\n",
      "1542364@qq.com\n",
      "\n",
      "1043268807@qq.com\n",
      "\n",
      "153668181@qq.com\n",
      "\n",
      "157007464@qq.com\n",
      "\n",
      "182392236@qq.com\n",
      "\n",
      "170417856@qq.com\n",
      "\n",
      "1007441500@qq.com\n",
      "\n",
      "115724800@qq.com\n",
      "\n",
      "136988257@qq.com\n",
      "\n",
      "142352@qq.com\n",
      "\n",
      "191008722@qq.com\n",
      "\n",
      "150456979@qq.com\n",
      "\n",
      "17115220@qq.com\n",
      "\n",
      "1832945@qq.com\n",
      "\n",
      "14745718@qq.com\n",
      "\n",
      "133717@qq.com\n",
      "\n",
      "171891384@qq.com\n",
      "\n",
      "150192729@qq.com\n",
      "\n",
      "154610842@qq.com\n",
      "\n",
      "173434133@qq.com\n",
      "\n",
      "138410220@qq.com\n",
      "\n",
      "121539256@qq.com\n",
      "\n",
      "11041204@qq.com\n",
      "\n",
      "1023120198@qq.com\n",
      "\n",
      "121213@qq.com\n",
      "\n",
      "190063510@qq.com\n",
      "\n",
      "123468628@qq.com\n",
      "\n",
      "16775419@qq.com\n",
      "\n",
      "121284707@qq.com\n",
      "\n",
      "18830222@qq.com\n",
      "\n",
      "179796473@qq.com\n",
      "\n",
      "178881195@qq.com\n",
      "\n",
      "178868838@qq.com\n",
      "\n",
      "172571852@qq.com\n",
      "\n",
      "191134699@qq.com\n",
      "\n",
      "106355057@qq.com\n",
      "\n",
      "164467163@qq.com\n",
      "\n",
      "137478727@qq.com\n",
      "\n",
      "1014370131@qq.com\n",
      "\n",
      "158024144@qq.com\n",
      "\n",
      "183992829@qq.com\n",
      "\n",
      "10419159@qq.com\n",
      "\n",
      "170544492@qq.com\n",
      "\n",
      "116540916@qq.com\n",
      "\n",
      "178591900@qq.com\n",
      "\n",
      "103341116@qq.com\n",
      "\n",
      "1013615158@qq.com\n",
      "\n",
      "113141273@qq.com\n",
      "\n",
      "176271531@qq.com\n",
      "\n",
      "121312664@qq.com\n",
      "\n",
      "123497672@qq.com\n",
      "\n",
      "124984443@qq.com\n",
      "\n",
      "19949140@qq.com\n",
      "\n",
      "157743365@qq.com\n",
      "\n",
      "120106885@qq.com\n",
      "\n",
      "136262927@qq.com\n",
      "\n",
      "124593273@qq.com\n",
      "\n",
      "112138358@qq.com\n",
      "\n",
      "179879146@qq.com\n",
      "\n",
      "1380017@qq.com\n",
      "\n",
      "109477057@qq.com\n",
      "\n",
      "1053562314@qq.com\n",
      "\n",
      "106156306@qq.com\n",
      "\n",
      "179229226@qq.com\n",
      "\n",
      "118160055@qq.com\n",
      "\n",
      "11@qq.com\n",
      "\n",
      "121539256@qq.com\n",
      "\n",
      "179095941@qq.com\n",
      "\n",
      "158979846@qq.com\n",
      "\n",
      "109900798@qq.com\n",
      "\n",
      "164771563@qq.com\n",
      "\n",
      "120635115@qq.com\n",
      "\n",
      "16649221@qq.com\n",
      "\n",
      "117266458@qq.com\n",
      "\n",
      "170454139@qq.com\n",
      "\n",
      "1042058509Q@qq.com\n",
      "\n",
      "119524810@qq.com\n",
      "\n",
      "102690596@qq.com\n",
      "\n",
      "115015973@qq.com\n",
      "\n",
      "13045367@qq.com\n",
      "\n",
      "154514192@qq.com\n",
      "\n",
      "137688077@qq.com\n",
      "\n",
      "114290246@qq.com\n",
      "\n",
      "120461635@qq.com\n",
      "\n",
      "196299599@qq.com\n",
      "\n",
      "197057792@qq.com\n",
      "\n",
      "137278783@qq.com\n",
      "\n",
      "12080@qq.com\n",
      "\n",
      "121626817@qq.com\n",
      "\n",
      "174481364@qq.com\n",
      "\n",
      "112950104@qq.com\n",
      "\n",
      "118113819@qq.com\n",
      "\n",
      "1011949213@qq.com\n",
      "\n",
      "190270234@qq.com\n",
      "\n",
      "120880145@qq.com\n",
      "\n",
      "149044489@qq.com\n",
      "\n",
      "1041365952@qq.com\n",
      "\n",
      "137178546@qq.com\n",
      "\n",
      "115245075@qq.com\n",
      "\n",
      "156051498@qq.com\n",
      "\n",
      "124108676@qq.com\n",
      "\n",
      "137609289@qq.com\n",
      "\n",
      "175967489@qq.com\n",
      "\n",
      "106675283@qq.com\n",
      "\n",
      "11954496@qq.com\n",
      "\n",
      "122213194@qq.com\n",
      "\n",
      "1023418565@qq.com\n",
      "\n",
      "17328156@qq.com\n",
      "\n",
      "181164106@qq.com\n",
      "\n",
      "1986001002@qq.com\n",
      "\n",
      "121546334@qq.com\n",
      "\n",
      "18221662@qq.com\n",
      "\n",
      "122362366@qq.com\n",
      "\n",
      "181894617@qq.com\n",
      "\n",
      "173223853@qq.com\n",
      "\n",
      "1750370@qq.com\n",
      "\n",
      "16690871@qq.com\n",
      "\n",
      "19101409@qq.com\n",
      "\n",
      "157589438@qq.com\n",
      "\n",
      "178468397@qq.com\n",
      "\n",
      "103907611@qq.com\n",
      "\n",
      "1356456@qq.com\n",
      "\n",
      "12433361@qq.com\n",
      "\n",
      "119418429@qq.com\n",
      "\n",
      "182693801@qq.com\n",
      "\n",
      "125741300@qq.com\n",
      "\n",
      "122475571@qq.com\n",
      "\n",
      "182076799@qq.com\n",
      "\n",
      "14913493@qq.com\n",
      "\n",
      "110738395@qq.com\n",
      "\n",
      "179490484@qq.com\n",
      "\n",
      "157433680@qq.com\n",
      "\n",
      "176243306@qq.com\n",
      "\n",
      "156sadasa@qq.com\n",
      "\n",
      "10778320@qq.com\n",
      "\n",
      "116657036@qq.com\n",
      "\n",
      "125933021@qq.com\n",
      "\n",
      "196856326@qq.com\n",
      "\n",
      "124107583@qq.com\n",
      "\n",
      "125598988@qq.com\n",
      "\n",
      "124563@qq.com\n",
      "\n",
      "18071932@qq.com\n",
      "\n",
      "103747649@qq.com\n",
      "\n",
      "112563167@qq.com\n",
      "\n",
      "1234@qq.com\n",
      "\n",
      "114368@qq.com\n",
      "\n",
      "121832565@qq.com\n",
      "\n",
      "137551863@qq.com\n",
      "\n",
      "1070531567@qq.com\n",
      "\n",
      "1032537498@qq.com\n",
      "\n",
      "170234815@qq.com\n",
      "\n",
      "12344321@qq.com\n",
      "\n",
      "130065205@qq.com\n",
      "\n",
      "100001255@qq.com\n",
      "\n",
      "1713766@qq.com\n",
      "\n",
      "158397@vip.qq.com\n",
      "\n",
      "125151111@qq.com\n",
      "\n",
      "1919881@qq.com\n",
      "\n",
      "156833544@qq.com\n",
      "\n",
      "1044106919@qq.com\n",
      "\n",
      "100661666@qq.com\n",
      "\n",
      "164935318@qq.com\n",
      "\n",
      "100060792@qq.com\n",
      "\n",
      "1766667@qq.com\n",
      "\n",
      "164993543@qq.com\n",
      "\n",
      "15087316@qq.com\n",
      "\n",
      "125479086@qq.com\n",
      "\n",
      "150100392@qq.com\n",
      "\n",
      "16451188@qq.com\n",
      "\n",
      "1002203033@qq.com\n",
      "\n",
      "1009558023@qq.com\n",
      "\n",
      "158412469@qq.com\n",
      "\n",
      "121439528@qq.com\n",
      "\n",
      "121239495@qq.com\n",
      "\n",
      "10182231@qq.com\n",
      "\n",
      "119557430@qq.com\n",
      "\n",
      "105617724@qq.com\n",
      "\n",
      "164744460@qq.com\n",
      "\n",
      "101469495@qq.com\n",
      "\n",
      "137282866@qq.com\n",
      "\n",
      "120921793@qq.com\n",
      "\n",
      "121485221@qq.com\n",
      "\n",
      "185274057@qq.com\n",
      "\n",
      "184738447@qq.com\n",
      "\n",
      "105896914@qq.com\n",
      "\n",
      "107156528@qq.com\n",
      "\n",
      "164423123@qq.com\n",
      "\n",
      "1005661215@qq.com\n",
      "\n",
      "112649776@qq.com\n",
      "\n",
      "123574798@qq.com\n",
      "\n",
      "101081491@qq.com\n",
      "\n",
      "178040240@qq.com\n",
      "\n",
      "170240394@qq.com\n",
      "\n",
      "150303890@qq.com\n",
      "\n",
      "164288949@qq.com\n",
      "\n",
      "13985436@qq.com\n",
      "\n",
      "164744460@qq.com\n",
      "\n",
      "16545648@qq.com\n",
      "\n",
      "171626092@qq.com\n",
      "\n",
      "173947885@qq.com\n",
      "\n",
      "120844448@qq.com\n",
      "\n",
      "121562017@qq.com\n",
      "\n",
      "125349996@qq.com\n",
      "\n",
      "102651150@qq.com\n",
      "\n",
      "121830961@qq.com\n",
      "\n",
      "115901619@qq.com\n",
      "\n",
      "16950686@qq.com\n",
      "\n",
      "136496941@qq.com\n",
      "\n",
      "154308571@qq.com\n",
      "\n",
      "123376554@qq.com\n",
      "\n",
      "1074973774@qq.com\n",
      "\n",
      "197706061@qq.com\n",
      "\n",
      "100000104@qq.com\n",
      "\n",
      "123601017@qq.com\n",
      "\n",
      "179855093@qq.com\n",
      "\n",
      "1007757217@qq.com\n",
      "\n",
      "10605814@qq.com\n",
      "\n",
      "190945653@qq.com\n",
      "\n",
      "12169706@qq.com\n",
      "\n",
      "113488461@qq.com\n",
      "\n",
      "149728571@qq.com\n",
      "\n",
      "12@qq.com\n",
      "\n",
      "117486465@qq.com\n",
      "\n"
     ]
    }
   ],
   "source": [
    "path='/Users/hd/Desktop/新建文件夹 (2)/赵\\mail.txt'\n",
    "with open(path) as f:#as是重命名\n",
    "    for i in range(5000):\n",
    "        lines = f.readline()\n",
    "        a=lines[0]\n",
    "        if a=='1':\n",
    "            print(lines)\n"
   ]
  },
  {
   "cell_type": "markdown",
   "metadata": {},
   "source": [
    "## 比较字符串\n",
    "-  ==, !=, >=, <=, >, <\n",
    "- 依照ASCII码值进行比较"
   ]
  },
  {
   "cell_type": "code",
   "execution_count": 17,
   "metadata": {},
   "outputs": [
    {
     "data": {
      "text/plain": [
       "'seaca'"
      ]
     },
     "execution_count": 17,
     "metadata": {},
     "output_type": "execute_result"
    }
   ],
   "source": [
    "a='abcse'\n",
    "a[-2: ]+a[ 0]+a[2]+a[0]"
   ]
  },
  {
   "cell_type": "code",
   "execution_count": 23,
   "metadata": {},
   "outputs": [],
   "source": [
    "n='se a ca'\n",
    "if ' 'in n:\n",
    "    True"
   ]
  },
  {
   "cell_type": "markdown",
   "metadata": {},
   "source": [
    "## 测试字符串\n",
    "![](../Photo/99.png)\n",
    "- 注意：\n",
    "> - isalnum() 中是不能包含空格，否则会返回False"
   ]
  },
  {
   "cell_type": "code",
   "execution_count": 11,
   "metadata": {},
   "outputs": [
    {
     "data": {
      "text/plain": [
       "True"
      ]
     },
     "execution_count": 11,
     "metadata": {},
     "output_type": "execute_result"
    }
   ],
   "source": [
    "a='1223abx'\n",
    "a.isalnum()"
   ]
  },
  {
   "cell_type": "code",
   "execution_count": 12,
   "metadata": {},
   "outputs": [
    {
     "data": {
      "text/plain": [
       "False"
      ]
     },
     "execution_count": 12,
     "metadata": {},
     "output_type": "execute_result"
    }
   ],
   "source": [
    "b=''\n",
    "b.islower()"
   ]
  },
  {
   "cell_type": "code",
   "execution_count": 12,
   "metadata": {},
   "outputs": [],
   "source": [
    "def a():\n",
    "    a=eval(input('请输入密码'))\n",
    "    "
   ]
  },
  {
   "cell_type": "code",
   "execution_count": 4,
   "metadata": {},
   "outputs": [
    {
     "ename": "NameError",
     "evalue": "name 'abn' is not defined",
     "output_type": "error",
     "traceback": [
      "\u001b[1;31m---------------------------------------------------------------------------\u001b[0m",
      "\u001b[1;31mNameError\u001b[0m                                 Traceback (most recent call last)",
      "\u001b[1;32m<ipython-input-4-836f8c8f834c>\u001b[0m in \u001b[0;36m<module>\u001b[1;34m\u001b[0m\n\u001b[1;32m----> 1\u001b[1;33m \u001b[0ma\u001b[0m\u001b[1;33m(\u001b[0m\u001b[0mabn\u001b[0m\u001b[1;33m)\u001b[0m\u001b[1;33m\u001b[0m\u001b[1;33m\u001b[0m\u001b[0m\n\u001b[0m",
      "\u001b[1;31mNameError\u001b[0m: name 'abn' is not defined"
     ]
    }
   ],
   "source": []
  },
  {
   "cell_type": "code",
   "execution_count": 10,
   "metadata": {},
   "outputs": [
    {
     "ename": "TypeError",
     "evalue": "a() takes 0 positional arguments but 1 was given",
     "output_type": "error",
     "traceback": [
      "\u001b[1;31m---------------------------------------------------------------------------\u001b[0m",
      "\u001b[1;31mTypeError\u001b[0m                                 Traceback (most recent call last)",
      "\u001b[1;32m<ipython-input-10-d600d3a296fd>\u001b[0m in \u001b[0;36m<module>\u001b[1;34m\u001b[0m\n\u001b[1;32m----> 1\u001b[1;33m \u001b[0ma\u001b[0m\u001b[1;33m(\u001b[0m\u001b[0ma\u001b[0m\u001b[1;33m)\u001b[0m\u001b[1;33m\u001b[0m\u001b[1;33m\u001b[0m\u001b[0m\n\u001b[0m",
      "\u001b[1;31mTypeError\u001b[0m: a() takes 0 positional arguments but 1 was given"
     ]
    }
   ],
   "source": [
    "a(a)"
   ]
  },
  {
   "cell_type": "markdown",
   "metadata": {},
   "source": [
    "## 搜索子串\n",
    "![](../Photo/100.png)"
   ]
  },
  {
   "cell_type": "code",
   "execution_count": 17,
   "metadata": {},
   "outputs": [
    {
     "data": {
      "text/plain": [
       "True"
      ]
     },
     "execution_count": 17,
     "metadata": {},
     "output_type": "execute_result"
    }
   ],
   "source": [
    "a='赵'\n",
    "b='赵赵'\n",
    "b.endswith(a)"
   ]
  },
  {
   "cell_type": "code",
   "execution_count": 19,
   "metadata": {},
   "outputs": [
    {
     "data": {
      "text/plain": [
       "2"
      ]
     },
     "execution_count": 19,
     "metadata": {},
     "output_type": "execute_result"
    }
   ],
   "source": [
    "b.count('赵')"
   ]
  },
  {
   "cell_type": "code",
   "execution_count": 23,
   "metadata": {},
   "outputs": [
    {
     "data": {
      "text/plain": [
       "-1"
      ]
     },
     "execution_count": 23,
     "metadata": {},
     "output_type": "execute_result"
    }
   ],
   "source": [
    "c='abcd'\n",
    "c.find('f')"
   ]
  },
  {
   "cell_type": "code",
   "execution_count": 25,
   "metadata": {
    "scrolled": true
   },
   "outputs": [
    {
     "data": {
      "text/plain": [
       "4"
      ]
     },
     "execution_count": 25,
     "metadata": {},
     "output_type": "execute_result"
    }
   ],
   "source": [
    "d='abcdr'\n",
    "d.rfind('r') #r从右往左找，索引依旧是从左往右"
   ]
  },
  {
   "cell_type": "code",
   "execution_count": 26,
   "metadata": {},
   "outputs": [
    {
     "data": {
      "text/plain": [
       "4"
      ]
     },
     "execution_count": 26,
     "metadata": {},
     "output_type": "execute_result"
    }
   ],
   "source": [
    "d.find('r')"
   ]
  },
  {
   "cell_type": "code",
   "execution_count": 4,
   "metadata": {},
   "outputs": [],
   "source": [
    "import requests"
   ]
  },
  {
   "cell_type": "code",
   "execution_count": 2,
   "metadata": {
    "scrolled": true
   },
   "outputs": [
    {
     "ename": "SyntaxError",
     "evalue": "invalid syntax (<ipython-input-2-69cfc4d9923c>, line 3)",
     "output_type": "error",
     "traceback": [
      "\u001b[1;36m  File \u001b[1;32m\"<ipython-input-2-69cfc4d9923c>\"\u001b[1;36m, line \u001b[1;32m3\u001b[0m\n\u001b[1;33m    i=url==-str(i).'html'\u001b[0m\n\u001b[1;37m                        ^\u001b[0m\n\u001b[1;31mSyntaxError\u001b[0m\u001b[1;31m:\u001b[0m invalid syntax\n"
     ]
    }
   ],
   "source": [
    "url='http://www.4399dmw.com/haizeiwang/tupian/list-273'\n",
    "for i in range(1,8):\n",
    "    i=url==-str(i).'html'\n",
    "HTML= requests.get(url).text\n",
    "a=HTML.split('\\n')\n",
    "for line in a:\n",
    "        if '.jpg' in line:\n",
    "            line2 = line.split('\"')\n",
    "           # print(line2)\n",
    "            for linee in line2:\n",
    "                if '.jpg' in linee:\n",
    "                    print(linee)\n"
   ]
  },
  {
   "cell_type": "code",
   "execution_count": 24,
   "metadata": {},
   "outputs": [
    {
     "name": "stdout",
     "output_type": "stream",
     "text": [
      "<!DOCTYPE html PUBLIC \"-//W3C//DTD XHTML 1.0 Transitional//EN\" \"http://www.w3.org/TR/xhtml1/DTD/xhtml1-transitional.dtd\">\n",
      "<html xmlns=\"http://www.w3.org/1999/xhtml\">\n",
      "<head>\n",
      "<meta http-equiv=\"Content-Type\" content=\"text/html; charset=utf-8\" />\n",
      "<title>海贼王图片-海贼王图片大全-海贼王专题-4399动漫网</title>\n",
      "<meta name=\"keywords\" content=\"海贼王图片,海贼王壁纸,海贼王图片大全\" />\n",
      "<meta name=\"description\" content=\"4399海贼王专题为您提供海贼王图片大全，拥有路飞、索隆、山治、娜美、罗宾、女帝等海量高清海贼王壁纸、同人图。更多人气海贼王角色图片等您一睹为快。\" />\n",
      "<meta http-equiv=\"Cache-Control\" content=\"no-transform\" />\n",
      "<link href=\"http://www.4399dmw.com/css/public/top_bar/v2/topbar.css?v=20190307\" rel=\"stylesheet\" type=\"text/css\" /><link href=\"/css/haizeiwang_global.css?v=20190307\" rel=\"stylesheet\" type=\"text/css\" />\n",
      "<link href=\"/css/haizeiwang2_140918.css?v=2\" rel=\"stylesheet\" type=\"text/css\" />\n",
      "<meta http-equiv=\"X-UA-Compatible\" content=\"IE=edge,chrome=1\"/>\n",
      "<script type=\"text/javascript\" src=\"/data/haizei.js\"></script>\n",
      "<script type=\"text/javascript\" src=\"/js/data_haizeiwang2.js\"></script>\n",
      "<base target=\"_blank\" />\n",
      "<script type=\"application/ld+json\">\n",
      "    {\n",
      "        \"@context\":\"https://ziyuan.baidu.com/contexts/cambrian.jsonld\",\n",
      "        \"@id\":\"http://www.4399dmw.com/haizeiwang/tupian/\",\n",
      "        \"upDate\":\"2019-04-12T16:20:41\"\n",
      "    }\n",
      "</script></head>\n",
      "<body>\n",
      "<div class=\"dm-topbar\">\n",
      "<div class=\"dm-topbar_in clearfix\" id=\"div_dm_topbar_id\">\n",
      "<a href=\"/\" class=\"tbr__logo fl\">\n",
      "<img src=\"/images/index/v2/logo.png\" title=\"4399动漫\" alt=\"4399动漫\" width=\"126\" height=\"27\">\n",
      "</a>\n",
      "<ul class=\"tbr__list fl home-nav\">\n",
      "<li class=\"tbr__item\"><a href=\"/\" target=\"_blank\">首页</a></li>\n",
      "<li class=\"tbr__item\"><a href=\"/donghua/\" target=\"_blank\">动画</a></li>\n",
      "<li class=\"tbr__item\"><a href=\"/manhua/\" target=\"_blank\">漫画</a></li>                \n",
      "<li class=\"tbr__item\"><a href=\"/music/\" target=\"_blank\">音乐</a></li>\n",
      "<li class=\"tbr__item\"><a href=\"/news/\" target=\"_blank\">速递</a></li>\n",
      "<li class=\"tbr__item\"><a href=\"/tuku/\" target=\"_blank\">图库</a></li>\n",
      "<li class=\"tbr__item\"><a href=\"http://my.4399.com/forums/page-dm\" target=\"_blank\">群组</a></li>\n",
      "</ul>\n",
      "<ul class=\"tbr__list-2 fr\">\n",
      "<li class=\"tbr__list-write\">\n",
      "<a style=\"cursor: pointer;\" target=\"_blank\" class=\"txt\">投稿</a>\n",
      "<ul class=\"tbr__write-list clearfix\">\n",
      "<!--<li class=\"tbr-novel\" title=\"写小说\">\n",
      "<a href=\"http://www.4399dmw.com/works-index.php\" target=\"_blank\">\n",
      "<i></i>\n",
      "<span>写小说</span>\n",
      "</a>\n",
      "</li>-->\n",
      "<li class=\"tbr-cartoon\" title=\"画漫画\">\n",
      "<a href=\"http://huodong.4399.com/comm/dmtougao/index.php?zt=77\" target=\"_blank\">\n",
      "<i></i>\n",
      "<span>画漫画</span>\n",
      "</a>\n",
      "</li>\n",
      "<li class=\"tbr-article\" title=\"写文章\">\n",
      "<a href=\"http://huodong.4399.com/comm/dmtougao/arc.php?zt=77\" target=\"_blank\">\n",
      "<i></i>\n",
      "<span>写文章</span>\n",
      "</a>\n",
      "</li>\n",
      "</ul>\n",
      "</li>\n",
      "<li><a class=\"bar-fav-btn\" href=\"#\" target=\"_blank\" title=\"请收藏示爱！\">收藏</a></li>\n",
      "</ul>\n",
      "<div id=\"user-login-bar\">\n",
      "</div>\n",
      "</div>\n",
      "</div> \n",
      "<div class=\"head_wrap\">\n",
      "<div class=\"head\"> <a href=\"javascript:void(0);\" title=\"4399海贼王动漫专区\" onclick=\"addfav(special_title,special_url);return false;\" class=\"logo\"></a> </div>\n",
      "<div class=\"nav\">\n",
      "<ul class=\"clearfix\">\n",
      "<li ><a target=\"_self\" href=\"/haizeiwang/\" class=\"a1\">海贼王</a></li>\n",
      "<li ><a target=\"_blank\" href=\"/haizeiwang/donghua/\" class=\"a2\">海贼动画</a></li>\n",
      "<li ><a target=\"_blank\" href=\"/haizeiwang/manhua/\" class=\"a3\">海贼漫画</a></li>\n",
      "<li ><a target=\"_self\" href=\"/haizeiwang/zixunzatan/\" class=\"a4\">资讯杂谈</a></li>\n",
      "<li  class=\"cur\"><a target=\"_self\" href=\"/haizeiwang/tupian/\" class=\"a5\">海贼图片</a></li>\n",
      "<li ><a target=\"_self\" href=\"/haizeiwang/juqing/\" class=\"a6\">海贼分析</a></li>\n",
      "<li ><a target=\"_self\" href=\"/haizeiwang/shipin/\" class=\"a7\">海贼视频</a></li>\n",
      "<li ><a target=\"_self\" href=\"/haizeiwang/tongren/\" class=\"a8\">海贼同人</a></li>\n",
      "<li ><a target=\"_self\" href=\"/haizeiwang/yinyue/\" class=\"a9\">海贼音乐</a></li>\n",
      "<li ><a target=\"_self\" href=\"/haizeiwang/renwu/\" class=\"a10\">悬赏令</a></li>\n",
      "<li ><a target=\"_self\" href=\"/haizeiwang/emgs/\" class=\"a11\">恶魔果实大全</a></li>\n",
      "</ul>\n",
      "</div>\n",
      "<div class=\"navb clearfix\">\n",
      "<div class=\"sehbx clearfix\">\n",
      "<form target=\"_blank\" class=\"search\" method=\"get\" action=\"/search/index.php\" onsubmit=\"if(this.search.value == false || this.search.value == '请输入你想查找的内容'){alert('请输入你想查找的内容');return false;}\">\n",
      "<input type=\"submit\" class=\"sehbtn\" value=\"\" />\n",
      "<input type=\"hidden\" id=\"ipt_type\" name=\"type\"/>\n",
      "<input type=\"text\" class=\"sehtxt\" id=\"seh_t\" value=\"请输入你想查找的内容\" onfocus=\"if(this.value=='请输入你想查找的内容') this.value='';\" onblur=\"if(this.value == false){ this.value='请输入你想查找的内容';}\"  name=\"search\" />\n",
      "</form>\n",
      "<p class=\"sehhot\">\n",
      "<span>热门搜索：</span>\n",
      "<a href=\"/dh/dlzs3/\">斗龙战士3</a>\n",
      "<a href=\"/dh/zzx10/\">猪猪侠之五灵守卫者</a>\n",
      "<a href=\"/dh/mhcs/\">魔幻车神</a>\n",
      "</p>\n",
      "</div>\n",
      "<div class=\"notice fl\" id=\"info\">\n",
      "<div class=\"tit\">最新公告</div>\n",
      "<div class=\"notice_in\">\n",
      "<ul>\n",
      "<li><a href=\"http://www.4399dmw.com/haizeiwang/manhua/274923.html\">海贼王826话 山治家族姐弟登场</a></li>\n",
      "<li><a href=\"http://www.4399dmw.com/haizeiwang/shipin/271774.html\">海贼王燃烧之血超震撼游戏宣传片</a></li>\n",
      "<li><a href=\"http://www.4399dmw.com/haizeiwang/tupian/270215.html\">海贼王第80卷SBS新鲜内容大放送！</a></li>\n",
      "<li><a href=\"http://www.4399dmw.com/haizeiwang/donghua/270363.html\">海贼王730集  蔓雪莉的奇迹之泪</a></li>\n",
      "<li><a href=\"http://www.4399dmw.com/haizeiwang/juqing/262935.html\">50条关于海贼王的小秘密 你都知道哪一些</a></li>\n",
      "<li><a href=\"http://www.4399dmw.com/haizeiwang/shipin/261621.html\">尾田荣一郎现场彩页作画过程</a></li>\n",
      "<li><a href=\"http://www.4399dmw.com/haizeiwang/tupian/260698.html\">海贼王2016年动画版年历</a></li>\n",
      "<li><a href=\"http://www.4399dmw.com/haizeiwang/tupian/260371.html\">海贼王2016年官方月历欣赏</a></li>\n",
      "<li><a href=\"http://weibo.com/xiaduophoto\">关注夏多老师微博  实时交流海贼王之道！</a></li>\n",
      "<li>4399海贼王官方群 群号：183253772</li>\n",
      "<li><a href=\"http://www.4399dmw.com/haizeiwang/juqing/220490.html\">夏多分析合集 过去的篇章全部在这里</a></li>\n",
      "<li><a href=\"http://www.4399dmw.com/tuku/269004.html\">海贼王burning blood参战角色图赏</a></li>\n",
      "<li>4399海贼王官方超级群 QQ群号：76975076</li>\n",
      "<li><a href=\"http://weibo.com/dm4399\">4399动漫网官方微博 萌萌微博娘等你来调戏</a></li>\n",
      "<li>海贼剧情讨论的乐园 夏多海贼团群号：385212372</li>\n",
      "</ul>\n",
      "</div>\n",
      "</div>\n",
      "</div>\n",
      "</div>\n",
      "<div id=\"baiduadholder\" class=\"dm_ads\"></div><div class=\"wrap mt10\">\n",
      "<div class=\"g_row clearfix\">\n",
      "<div class=\"g_col g_col_w700\">\n",
      "<div class=\"g_box\">\n",
      "<div class=\"g_hd\"> <span class=\"lt\"></span> <span class=\"rt\"></span> </div>\n",
      "<div class=\"g_bd\">\n",
      "<div class=\"dm_crumbs g_crumbs\"> 当前位置：<a href='/' target='_self'>4399动漫网</a><span class='s_g5'>&gt;</span><a href='/haizeiwang/' target='_self'>海贼王</a><span class='s_g5'>&gt;</span><a href='/haizeiwang/tupian/' target='_self'>海贼王图片</a> </div>\n",
      "<div class=\"g_albumlist\">\n",
      "<ul class=\"clearfix\">\n",
      "<li> <a title=\"海贼王80卷单行本SBS\" href=\"/haizeiwang/tupian/270215.html\" class=\"img\"> <img src=\"http://dmimg.5054399.com/allimg/160217/6_160217142248_2.jpg\" alt=\"海贼王80卷单行本SBS\" /> </a> <a href=\"/haizeiwang/tupian/270215.html\" class=\"tit\">海贼王80卷单行本SBS</a> </li>\n",
      "<li> <a title=\"柯拉松先生同人图\" href=\"http://www.4399dmw.com/tuku/269112.html\" class=\"img\"> <img src=\"http://dmimg.5054399.com/allimg/160127/6_160127110842_1.jpg\" alt=\"柯拉松先生同人图\" /> </a> <a href=\"http://www.4399dmw.com/tuku/269112.html\" class=\"tit\">柯拉松先生同人图</a> </li>\n",
      "<li> <a title=\"海贼王Burning Blood游戏参战角色\" href=\"http://www.4399dmw.com/tuku/269004.html\" class=\"img\"> <img src=\"http://dmimg.5054399.com/allimg/160126/6_160126100905_2.jpg\" alt=\"海贼王Burning Blood游戏参战角色\" /> </a> <a href=\"http://www.4399dmw.com/tuku/269004.html\" class=\"tit\">海贼王Burning Blood游戏参战角色</a> </li>\n",
      "<li> <a title=\"海贼王万圣节ZOMBIE主题磁章\" href=\"/haizeiwang/tupian/261738.html\" class=\"img\"> <img src=\"http://dmimg.5054399.com/allimg/151028/6_151028142939_1.jpg\" alt=\"海贼王万圣节ZOMBIE主题磁章\" /> </a> <a href=\"/haizeiwang/tupian/261738.html\" class=\"tit\">海贼王万圣节ZOMBIE主题磁章</a> </li>\n",
      "<li> <a title=\"海贼王79卷SBS及角色生日大全\" href=\"/haizeiwang/tupian/261691.html\" class=\"img\"> <img src=\"http://dmimg.5054399.com/allimg/151027/6_151027140205_1.jpg\" alt=\"海贼王79卷SBS及角色生日大全\" /> </a> <a href=\"/haizeiwang/tupian/261691.html\" class=\"tit\">海贼王79卷SBS及角色生日大全</a> </li>\n",
      "<li> <a title=\"海贼王2016年动画版年历\" href=\"/haizeiwang/tupian/260698.html\" class=\"img\"> <img src=\"http://dmimg.5054399.com/allimg/151006/6_151006204107_1.jpg\" alt=\"海贼王2016年动画版年历\" /> </a> <a href=\"/haizeiwang/tupian/260698.html\" class=\"tit\">海贼王2016年动画版年历</a> </li>\n",
      "<li> <a title=\"海贼王2016年官方月历\" href=\"/haizeiwang/tupian/260371.html\" class=\"img\"> <img src=\"http://dmimg.5054399.com/allimg/150927/6_150927153510_1.jpg\" alt=\"海贼王2016年官方月历\" /> </a> <a href=\"/haizeiwang/tupian/260371.html\" class=\"tit\">海贼王2016年官方月历</a> </li>\n",
      "<li> <a title=\"海贼王柯拉松和罗同人图\" href=\"/haizeiwang/tupian/258635.html\" class=\"img\"> <img src=\"http://dmimg.5054399.com/allimg/150821/6_150821105253_2.jpg\" alt=\"海贼王柯拉松和罗同人图\" /> </a> <a href=\"/haizeiwang/tupian/258635.html\" class=\"tit\">海贼王柯拉松和罗同人图</a> </li>\n",
      "<li> <a title=\"画师盖括 一支笔一个梦海贼篇合辑\" href=\"/haizeiwang/tupian/257341.html\" class=\"img\"> <img src=\"http://dmimg.5054399.com/allimg/150728/6_150728100515_1.jpg\" alt=\"画师盖括 一支笔一个梦海贼篇合辑\" /> </a> <a href=\"/haizeiwang/tupian/257341.html\" class=\"tit\">画师盖括 一支笔一个梦海贼篇合辑</a> </li>\n",
      "<li> <a title=\"海贼王78卷SBS\" href=\"/haizeiwang/tupian/257280.html\" class=\"img\"> <img src=\"http://dmimg.5054399.com/allimg/150727/6_150727114156_1.jpg\" alt=\"海贼王78卷SBS\" /> </a> <a href=\"/haizeiwang/tupian/257280.html\" class=\"tit\">海贼王78卷SBS</a> </li>\n",
      "<li> <a title=\"ONE PIECE JEANIST牛仔裤组图\" href=\"/haizeiwang/tupian/257190.html\" class=\"img\"> <img src=\"http://dmimg.5054399.com/allimg/150726/6_150726014844_1.jpg\" alt=\"ONE PIECE JEANIST牛仔裤组图\" /> </a> <a href=\"/haizeiwang/tupian/257190.html\" class=\"tit\">ONE PIECE JEANIST牛仔裤组图</a> </li>\n",
      "<li> <a title=\"推进城狱卒小萨迪COSPLAY欣赏\" href=\"/haizeiwang/tupian/253253.html\" class=\"img\"> <img src=\"http://dmimg.5054399.com/allimg/150529/6_150529115733_1.jpg\" alt=\"推进城狱卒小萨迪COSPLAY欣赏\" /> </a> <a href=\"/haizeiwang/tupian/253253.html\" class=\"tit\">推进城狱卒小萨迪COSPLAY欣赏</a> </li>\n",
      "<li> <a title=\"路飞2015年5月5日生日贺图\" href=\"/haizeiwang/tupian/251825.html\" class=\"img\"> <img src=\"http://dmimg.5054399.com/allimg/150505/6_150505112033_1.jpg\" alt=\"路飞2015年5月5日生日贺图\" /> </a> <a href=\"/haizeiwang/tupian/251825.html\" class=\"tit\">路飞2015年5月5日生日贺图</a> </li>\n",
      "<li> <a title=\"海贼王77卷SBS\" href=\"/haizeiwang/tupian/250388.html\" class=\"img\"> <img src=\"http://dmimg.5054399.com/allimg/150416/6_150416172603_1.jpg\" alt=\"海贼王77卷SBS\" /> </a> <a href=\"/haizeiwang/tupian/250388.html\" class=\"tit\">海贼王77卷SBS</a> </li>\n",
      "<li> <a title=\"海贼王柯拉松同人图\" href=\"/haizeiwang/tupian/250345.html\" class=\"img\"> <img src=\"http://dmimg.5054399.com/allimg/150415/6_150415170647_1.jpg\" alt=\"海贼王柯拉松同人图\" /> </a> <a href=\"/haizeiwang/tupian/250345.html\" class=\"tit\">海贼王柯拉松同人图</a> </li>\n",
      "<li> <a title=\"轻松熊版海贼王萌头像\" href=\"/haizeiwang/tupian/250281.html\" class=\"img\"> <img src=\"http://dmimg.5054399.com/allimg/150414/6_150414115634_1.jpg\" alt=\"轻松熊版海贼王萌头像\" /> </a> <a href=\"/haizeiwang/tupian/250281.html\" class=\"tit\">轻松熊版海贼王萌头像</a> </li>\n",
      "<li> <a title=\"海贼王寻宝之旅官方人物图鉴\" href=\"/haizeiwang/tupian/249779.html\" class=\"img\"> <img src=\"http://dmimg.5054399.com/allimg/150407/6_150407142509_2.jpg\" alt=\"海贼王寻宝之旅官方人物图鉴\" /> </a> <a href=\"/haizeiwang/tupian/249779.html\" class=\"tit\">海贼王寻宝之旅官方人物图鉴</a> </li>\n",
      "<li> <a title=\"乔巴可爱拟人COSPLAY欣赏\" href=\"/haizeiwang/tupian/249445.html\" class=\"img\"> <img src=\"http://dmimg.5054399.com/allimg/150330/6_150330170659_2.jpg\" alt=\"乔巴可爱拟人COSPLAY欣赏\" /> </a> <a href=\"/haizeiwang/tupian/249445.html\" class=\"tit\">乔巴可爱拟人COSPLAY欣赏</a> </li>\n",
      "</ul>\n",
      "</div>\n",
      "<div class=\"dm_page\">\n",
      "<div class=\"pages_n\"><a href='javascript:void(0);' class='pages_n_b' target=\"_self\">1</a>&nbsp;<a href='/haizeiwang/tupian/list-273-2.html' class='pages_n_a' target=\"_self\">2</a>&nbsp;<a href='/haizeiwang/tupian/list-273-3.html' class='pages_n_a' target=\"_self\">3</a>&nbsp;<a href='/haizeiwang/tupian/list-273-4.html' class='pages_n_a' target=\"_self\">4</a>&nbsp;<a href='/haizeiwang/tupian/list-273-5.html' class='pages_n_a' target=\"_self\">5</a>&nbsp;<a href='/haizeiwang/tupian/list-273-6.html' class='pages_n_a' target=\"_self\">6</a>&nbsp;<a href='/haizeiwang/tupian/list-273-7.html' class='pages_n_a' target=\"_self\">7</a>&nbsp;<a href='/haizeiwang/tupian/list-273-2.html' class='pages_n_a' target=\"_self\" title='下一页'>&gt;&gt;</a>&nbsp;</div>          </div>\n",
      "</div>\n",
      "<div class=\"g_fd\"> <span class=\"lb\"></span> <span class=\"rb\"></span> </div>\n",
      "</div>\n",
      "<div class=\"g_box hzwxyx_box mt10\">\n",
      "<div class=\"g_hd\"> <span class=\"lt\"></span> <span class=\"rt\"></span> </div>\n",
      "<div class=\"g_bd\"> \n",
      "<div class=\"g_box_title\">\n",
      "<a class=\"title\" href=\"http://www.4399.com/special/277.htm\"> <i class=\"icon\"></i> 动漫小游戏大全 </a>\n",
      "</div>\n",
      "<ul class=\"g_imglist g_mimglist clearfix\">\n",
      "<li> <a href=\"http://my.4399.com/yxhhw/\"> <img name=\"lzimg_1\" lz_src=\"http://dmimg.5054399.com/allimg/xiaduo/121.jpg\" alt=\"4399航海王OL\">4399航海王OL </a> </li>\n",
      "<li> <a href=\"http://www.4399.com/flash/140922.htm\"> <img name=\"lzimg_1\" lz_src=\"http://dmimg.5054399.com/allimg/xiaduo/122.jpg\" alt=\"妖尾VS海贼王0.7\">妖尾VS海贼王0.7 </a> </li>\n",
      "<li> <a href=\"http://www.4399.com/flash/87159.htm\"> <img name=\"lzimg_1\" lz_src=\"http://dmimg.5054399.com/allimg/xiaduo/123.jpg\" alt=\"海贼王异域冒险3\">海贼王异域冒险3 </a> </li>\n",
      "<li> <a href=\"http://www.4399.com/flash/97213_2.htm\"> <img name=\"lzimg_1\" lz_src=\"http://dmimg.5054399.com/allimg/170415/6_170415112850_1.jpg\" alt=\"海贼VS火影\">海贼VS火影 </a> </li>\n",
      "<li> <a href=\"http://www.4399.com/flash/118829.htm\"> <img name=\"lzimg_1\" lz_src=\"http://dmimg.5054399.com/allimg/xiaduo/126.jpg\" alt=\"海贼王终极对决1.6\">海贼王终极对决1.6 </a> </li>\n",
      "<li> <a href=\"http://www.4399.com/flash/39039.htm\"> <img name=\"lzimg_1\" lz_src=\"http://dmimg.5054399.com/allimg/xiaduo/124.jpg\" alt=\"海贼王叉鱼记\">海贼王叉鱼记 </a> </li>\n",
      "</ul>\n",
      "</div>\n",
      "<div class=\"g_fd\"> <span class=\"lb\"></span> <span class=\"rb\"></span> </div>\n",
      "<i class=\"bhock_u bhock_lt\"></i> <i class=\"bhock_u bhock_rt\"></i> </div>    </div>\n",
      "<div class=\"g_col g_col_w270 ml10\">\n",
      "<div class=\"g_flagbox g_sidebox rmzx_sdbox mt2r\">\n",
      "<div class=\"g_flaghd\"> <span class=\"lt\"></span> <span class=\"rt\"></span> </div>\n",
      "<div class=\"g_flagbd\">\n",
      "<div class=\"g_box_title\"> <a href=\"/haizeiwang/zixunzatan/\" class=\"more\">更多&gt;&gt;</a>\n",
      "<a class=\"title\" href=\"/haizeiwang/zixunzatan/\"> <i class=\"icon\"></i> 海贼王热门资讯 </a>\n",
      "</div>\n",
      "<h3 class=\"g_side_actitle\"><a href=\"/haizeiwang/zixunzatan/304508.html\">《海贼王》奇葩产物 那些奇奇</a></h3>\n",
      "<div class=\"g_imgtext\"> <a href=\"/haizeiwang/zixunzatan/304508.html\" class=\"img\" title=\"《海贼王》奇葩产物 那些奇奇\"> <img alt=\"《海贼王》奇葩产物 那些奇奇\" src=\"http://dmimg.5054399.com/allimg/170613/42_170613104122_3.jpg\" /> </a>\n",
      "<p class=\"text\">海贼王里的电话虫是一种伟大航道内的通讯工具，虽然是生物，但......</p>\n",
      "</div>\n",
      "<div class=\"newsbox\">\n",
      "<ul class=\"g_textlist\">\n",
      "<li> <span class=\"time\">[05-31]</span> <a href=\"/haizeiwang/zixunzatan/302016.html\">盘点海贼王漫画中让人匪夷所</a> </li>\n",
      "<li> <span class=\"time\">[05-25]</span> <a href=\"/haizeiwang/zixunzatan/300598.html\">《海贼王》里最适合撩妹的岛</a> </li>\n",
      "<li> <span class=\"time\">[05-24]</span> <a href=\"/haizeiwang/zixunzatan/300368.html\">《海贼王》里十大最丑的角色</a> </li>\n",
      "<li> <span class=\"time\">[05-15]</span> <a href=\"/haizeiwang/zixunzatan/298482.html\">《海贼王》里最会占女生便宜</a> </li>\n",
      "<li> <span class=\"time\">[04-28]</span> <a href=\"/haizeiwang/zixunzatan/296224.html\">海贼王角色两年前后对比 变化</a> </li>\n",
      "</ul>\n",
      "</div>\n",
      "</div>\n",
      "<div class=\"g_flagfd\"> <span class=\"lb\"></span> <span class=\"rb\"></span> </div>\n",
      "<i class=\"fbhock_u fbhock_ulb\"></i> <i class=\"fbhock_u fbhock_urb\"></i> </div>\n",
      "<div class=\"g_dmbtns\"> <a href=\"/haizeiwang/manhua/\" class=\"mhbtn\"> <i></i> <b>海贼王漫画</b> </a> <a href=\"/haizeiwang/donghua/\" class=\"dhbtn\"> <i></i> <b>海贼王动画</b> </a> </div>\n",
      "<div class=\"g_flagbox g_sidebox hztj_sdbox\">\n",
      "<div class=\"g_flaghd\"> <span class=\"lt\"></span> <span class=\"rt\"></span> </div>\n",
      "<div class=\"g_flagbd\">\n",
      "<div class=\"g_box_title\"> <a href=\"/haizeiwang/tupian/\" class=\"more\">更多&gt;&gt;</a>\n",
      "<a href=\"/haizeiwang/tupian/\" class=\"title\"> <i class=\"icon\"></i> 海贼王图片 </a>\n",
      "</div>\n",
      "<ul class=\"g_imglist g_mdimglist clearfix\">\n",
      "<li> <a href=\"/haizeiwang/tupian/270215.html\"> <img src=\"http://dmimg.5054399.com/allimg/160217/6_160217142248_3.jpg\" alt=\"海贼王80卷单行本SBS\" />海贼王80卷单行本SBS</a> </li>\n",
      "<li> <a href=\"http://www.4399dmw.com/tuku/269112.html\"> <img src=\"http://dmimg.5054399.com/allimg/160127/6_160127110842_2.jpg\" alt=\"柯拉松先生同人图\" />柯拉松先生同人图</a> </li>\n",
      "<li> <a href=\"http://www.4399dmw.com/tuku/269004.html\"> <img src=\"http://dmimg.5054399.com/allimg/160126/6_160126100905_3.jpg\" alt=\"海贼王Burning Blood游戏参战角色\" />海贼王Burning Blood游戏参战角色</a> </li>\n",
      "<li> <a href=\"/haizeiwang/tupian/261738.html\"> <img src=\"http://dmimg.5054399.com/allimg/151028/6_151028142939_2.jpg\" alt=\"海贼王万圣节ZOMBIE主题磁章\" />海贼王万圣节ZOMBIE主题磁章</a> </li>\n",
      "</ul>\n",
      "<span class=\"knife\"></span> </div>\n",
      "<div class=\"g_flagfd\"> <span class=\"lb\"></span> <span class=\"rb\"></span> </div>\n",
      "<i class=\"fbhock_d fbhock_dlt\"></i> <i class=\"fbhock_d fbhock_drt \"></i> <i class=\"fbhock_u fbhock_ulb\"></i> <i class=\"fbhock_u fbhock_urb\"></i> </div>\n",
      "<div class=\"g_flagbox g_sidebox hzfx_sdbox mt15\">\n",
      "<div class=\"g_flaghd\"> <span class=\"lt\"></span> <span class=\"rt\"></span> </div>\n",
      "<div class=\"g_flagbd\">\n",
      "<div class=\"g_box_title\"> <a href=\"/haizeiwang/juqing/\" class=\"more\">更多&gt;&gt;</a>\n",
      "<a class=\"title\" href=\"/haizeiwang/juqing/\"> <i class=\"icon\"></i> 海贼王分析 </a>\n",
      "</div>\n",
      "<div class=\"newsbox\">\n",
      "<ul class=\"g_textlist\">\n",
      "<li> <span class=\"time\">[03-11]</span> <a href=\"/haizeiwang/juqing/271421.html\">关于文斯莫克山治的分析</a> </li>\n",
      "<li> <span class=\"time\">[03-09]</span> <a href=\"http://weibo.com/ttarticle/p/show?id=2309403951190911130828\">夏多的海贼王分析 和大家再见</a> </li>\n",
      "<li> <span class=\"time\">[03-01]</span> <a href=\"/haizeiwang/juqing/270577.html\">海贼王817分析</a> </li>\n",
      "<li> <span class=\"time\">[02-17]</span> <a href=\"/haizeiwang/juqing/270230.html\">新人浅谈我对海贼王和黑胡子</a> </li>\n",
      "<li> <span class=\"time\">[02-17]</span> <a href=\"/haizeiwang/juqing/270219.html\">龙之华盛顿的2016海贼初分析</a> </li>\n",
      "<li> <span class=\"time\">[02-16]</span> <a href=\"/haizeiwang/juqing/269976.html\">海贼王816分析</a> </li>\n",
      "<li> <span class=\"time\">[02-08]</span> <a href=\"/haizeiwang/juqing/269870.html\">浅析草帽海贼团第十人</a> </li>\n",
      "<li> <span class=\"time\">[02-06]</span> <a href=\"/haizeiwang/juqing/269679.html\">海贼王815分析</a> </li>\n",
      "<li> <span class=\"time\">[01-30]</span> <a href=\"/haizeiwang/juqing/269353.html\">山治的新娘等于第十人？</a> </li>\n",
      "<li> <span class=\"time\">[01-30]</span> <a href=\"/haizeiwang/juqing/269246.html\">海贼王814分析</a> </li>\n",
      "</ul>\n",
      "</div>\n",
      "</div>\n",
      "<div class=\"g_flagfd\"> <span class=\"lb\"></span> <span class=\"rb\"></span> </div>\n",
      "<i class=\"fbhock_d fbhock_dlt\"></i> <i class=\"fbhock_d fbhock_drt \"></i> <i class=\"fbhock_u fbhock_ulb\"></i> <i class=\"fbhock_u fbhock_urb\"></i> </div>\n",
      "<div class=\"g_flagbox g_sidebox rmdm_sdbox mt15\">\n",
      "<div class=\"g_flaghd\"> <span class=\"lt\"></span> <span class=\"rt\"></span> </div>\n",
      "<div class=\"g_flagbd\">\n",
      "<div class=\"recomboard\">\n",
      "<div class=\"g_tab dmtab\">\n",
      "<ul class=\"clearfix\" id=\"j-roletab2\">\n",
      "<li class=\"cur\"> <i class=\"ico1\"></i> <span>热门动画</span> </li>\n",
      "<li> <i class=\"ico2\"></i> <span>热门漫画</span> </li>\n",
      "</ul>\n",
      "</div>\n",
      "<div id=\"j-rolecon2\" class=\"rolecon\"> \n",
      "<ul class=\"ranklist\">\n",
      "<li><a href=\"http://www.4399dmw.com/dh/zzxbsxyx/\">猪猪侠之变身小英雄</a></li>\n",
      "<li><a href=\"http://www.4399dmw.com/dh/kaijiayongshinawa/\">铠甲勇士拿瓦</a></li>\n",
      "<li><a href=\"http://www.4399dmw.com/dh/atxddl/\">爱探险的朵拉</a></li>\n",
      "<li><a href=\"http://www.4399dmw.com/dh/zdzwjfzhdeb/\">战斗王之飓风战魂</a></li>\n",
      "<li><a href=\"http://www.4399dmw.com/dh/xcmzclzdy/\">熊出没之丛林总动员</a></li>\n",
      "<li><a href=\"http://www.4399dmw.com/dh/xdtxt/\">新大头儿子和小头爸爸</a></li>\n",
      "<li><a href=\"http://www.4399dmw.com/dh/xcmdbxb/\">熊出没之夺宝熊兵</a></li>\n",
      "</ul>\n",
      "<ul class=\"ranklist\" style=\"display:none\">\n",
      "<li><a href=\"http://www.4399dmw.com/mh/juhuaxiaodian/\">菊花笑典</a></li>\n",
      "<li><a href=\"http://www.4399dmw.com/mh/au/\">阿U漫画</a></li>\n",
      "<li><a href=\"http://www.4399dmw.com/mh/niuniutao/\">妞妞淘</a></li>\n",
      "<li><a href=\"http://www.4399dmw.com/heizhishi/manhua/\">黑执事漫画</a></li>\n",
      "<li><a href=\"http://www.4399dmw.com/huoying/manhua/\">火影忍者漫画</a></li>\n",
      "<li><a href=\"http://www.4399dmw.com/mh/ppxqchdqs/\">炮炮向前冲之荒岛求生</a></li>\n",
      "<li><a href=\"http://www.4399dmw.com/duolaameng/manhua/\">哆啦a梦漫画</a></li>\n",
      "</ul>\n",
      "</div>\n",
      "</div>\n",
      "</div>\n",
      "<div class=\"g_flagfd\"> <span class=\"lb\"></span> <span class=\"rb\"></span> </div>\n",
      "<i class=\"fbhock_d fbhock_dlt\"></i> <i class=\"fbhock_d fbhock_drt \"></i> </div>\n",
      "</div>  </div>\n",
      "<div class=\"g_row\">\n",
      "<div class=\"rmssboard\">\n",
      "<div class=\"rmss_hd\"></div>\n",
      "<div class=\"rmss_bd clearfix\">\n",
      "<dl class=\"rmssdl\">\n",
      "<dt>热门搜索：</dt>\n",
      "<dd class=\"clearfix\">\n",
      "<a href=\"http://www.4399dmw.com/donghua/\">动画片</a><a href=\"http://www.4399dmw.com/manhua/\">漫画网</a><a href=\"http://www.4399dmw.com/\">动漫网</a><a href=\"http://www.4399dmw.com/huoying/\">火影忍者</a><a href=\"http://www.4399dmw.com/qinshimingyue/\">秦时明月</a><a href=\"http://www.4399dmw.com/dh/kjysbj/\">铠甲勇士捕将</a><a href=\"http://www.4399dmw.com/haizeiwang/\">海贼王</a><a href=\"http://www.4399dmw.com/yaojingdeweiba/\">妖精的尾巴</a><a href=\"http://www.4399dmw.com/orz/23/\">搞笑动画推荐</a><a href=\"http://www.4399dmw.com/atm/\">奥特曼专区</a><a href=\"http://www.4399dmw.com/news/\">动漫速递</a><a href=\"http://www.4399dmw.com/dh/bbmd/\">百变马丁</a><a href=\"http://www.4399dmw.com/zixun/381175.html\">19年1月新番</a><a href=\"http://www.4399dmw.com/orz/20/\">动漫小主题汇总</a><a href=\"http://www.4399dmw.com/xcmmovie3/\">熊出没之熊心归来大电影</a><a href=\"http://www.4399dmw.com/dh/dlzs3/\">斗龙战士3龙印之战</a><a href=\"http://www.4399dmw.com/dh/seerdiliuji/\">赛尔号第六季</a><a href=\"http://www.4399dmw.com/qinshimingyue/jltx/\">秦时明月之君临天下</a><a href=\"http://www.4399dmw.com/dh/drlft/\">熊出没之冬日乐翻天</a><a href=\"http://www.4399dmw.com/dh/qjleyuan/\">奇积乐园</a><a href=\"http://www.4399dmw.com/dh/akmfsn/\">艾可魔法少女</a>          </dd>\n",
      "</dl>\n",
      "</div>\n",
      "<div class=\"rmss_fd\"></div>\n",
      "</div>\n",
      "</div>\n",
      "</div>\n",
      "<script type=\"text/javascript\" src=\"/js/libs/public/v1/jquery-1.4.4.min.js\"></script>\n",
      "<script type=\"text/javascript\" src=\"/js/libs/common.js?v=20190307\"></script>\n",
      "<script type=\"text/javascript\" src=\"/js/widget/history/home.js?v=20190307\"></script>\n",
      "<script type=\"text/javascript\" src=\"/js/commshare_g.js\"></script>\n",
      "<script type=\"text/javascript\">\n",
      "    var topbar_html_url = '/data/top_bar_data.html';\n",
      "</script>\n",
      "<script type=\"text/javascript\" src=\"http://www.4399dmw.com/js/shares/common/jquery.cookie.js\"></script>\n",
      "<script type=\"text/javascript\" src=\"http://www.4399dmw.com/js/libs/public/top_bar/v2/page.js?v=20190307\"></script>\n",
      "<script type=\"text/javascript\" src=\"http://www.4399dmw.com/js/usercenter/user/v1/userlogin.js?v=20190307\"></script>\n",
      "<script type=\"text/javascript\" src=\"http://www.4399dmw.com/baiduad/baiduad_funs.js\"></script>\n",
      "<script  type=\"text/javascript\">\n",
      "\tadd_baidu_define_ad(980, 90, 'baiduadholder', 'margin-top:8px;');\n",
      "</script>\n",
      "<script type=\"text/javascript\">\n",
      "    var typename = '海贼王';\n",
      "    var special_title = '海贼王专题-海贼王动漫中文网-4399动漫网';\n",
      "    var special_url ='http://www.4399dmw.com/haizeiwang/';\n",
      "</script>\n",
      "<script src=\"/js/4399.js\"></script> \n",
      "<script src=\"/js/haizeiwang2tab.js\"></script> \n",
      "<script src=\"http://www.4399dmw.com/js/libs/public/v1/ks.marquee.js\"></script> \n",
      "<script>\n",
      "//最新公告滚动\n",
      "ue.marquee({\n",
      "    hovertarget : \"#info\",//鼠标hover停止切换的对象\n",
      "    target : '#info .notice_in ul',//滚动对象 一般为 ul\n",
      "    items : '#info .notice_in li', //滚动的详细列表\n",
      "    delay : 1000,//切换间隔时间\n",
      "    speed : 900,//切换速度\n",
      "    visiblenum : 1,//可见个数\n",
      "    scrollnum : 1,//每次滚动个数\n",
      "    autoplay : true,//是否自动播放    \n",
      "    loop : 1,//循环模式 1 无限循环 0 不循环\n",
      "    mode : 0,\n",
      "    direction : 0\n",
      "  });\n",
      "\n",
      "if($(\"#j-roletab\").length != 0){\n",
      "    tab(\"j-roletab\",\"li\",\"j-rolecon\",\"ul\");\n",
      "}\n",
      "if($(\"#j-roletab2\").length != 0){\n",
      "    tab2(\"j-roletab2\",\"li\",\"j-rolecon2\",\"ul\");\n",
      "}\n",
      "//展示全部\n",
      "$(\".btnshowall\").bind(\"click\",function(){\n",
      "    $(\"#iga\").removeClass(\"modemini\");\n",
      "    $(\".btnshowall\").hide();\n",
      "    var this_img = $(\"#iga\");\n",
      "    var replace_html = this_img.html().replace(/lz_src/g, \"src\");\n",
      "    this_img.html(replace_html);\n",
      "    return false;\n",
      "}); \n",
      "</script>\n",
      "<div class=\"dm_bottombar\" id=\"footer\">\n",
      "<div class=\"dm_bottombar footer\">\n",
      "<a href=\"http://www.4399dmw.com/contact_us.html\" rel=\"external nofollow\">联系我们</a> |   <a href=\"http://www.4399dmw.com/disclaimer.html\" rel=\"external nofollow\">免责声明</a>  | <a href=\"http://web.4399.com/local/200810/22-1230.html\">隐私政策</a> | <a href=\"http://www.4399dmw.com/map.html\">网站地图</a> | <a href=\"http://www.4399dmw.com/copyright.html\" rel=\"external nofollow\">版权保护投诉声明</a> | <a href=\"http://www.4399dmw.com/uploadinfo.html\" rel=\"external nofollow\">动漫作品上传须知</a> | <a rel=\"external nofollow\" href=\"http://web.4399.com/jiazhang/\">未成年人家长监护</a><br />\n",
      "    本站漫画等相关内容均来自网友分享和上传，以供漫画爱好者研究漫画画法技巧和构图方式，若侵犯到您的权益，请立即联系我们删除。本站不负任何相关责任。<br />\n",
      "<a rel=\"external nofollow\" href=\"http://sq.ccm.gov.cn/ccnt/sczr/service/business/emark/toDetail/9F5113E34F5E4443A68F11E8A6E2685C\"><img src=\"/images/bg-whjy.png\" style=\"vertical-align: middle;\" /> 闽网文〔2018〕9590-427号</a> | <a rel=\"external nofollow\" href=\"http://www.4399.com/zs/chuban.html \">新出网证(闽)字06号</a> | <a rel=\"external nofollow\" href=\"http://www.miitbeian.gov.cn/\">ICP证闽B2-20040099-21</a> 如果有意见和建议，请点击至<a rel=\"external nofollow\" href=\"http://huodong.4399.com/dongman/faq_suggestion/\" style=\"color:#1111bb;\">反馈报错箱</a> 或 请惠赐E-mail至<a href=\"mailto:4399dmw@4399inc.com\">4399dmw@4399inc.com</a><br />\n",
      "    Copyright &copy; 2004 - 2019 4399dmw.com All Rights Reserved.四三九九网络股份有限公司 版权所有    </div>\n",
      "<!--[if IE 6]>\n",
      "<script src=\"http://www.4399dmw.com/js/libs/public/v1/DD_belatedPNG_0.0.8a-min.js\"></script><script type=\"text/javascript\">DD_belatedPNG.fix('.png_img');</script>\n",
      "<![endif]-->\n",
      "<div style=\"display:none\">\n",
      "<script type=\"text/javascript\" src=\"http://www.4399dmw.com/js/dmcount.js\"></script>\n",
      "</div>    </div>\n",
      "</body>\n",
      "</html>\n",
      "\n"
     ]
    }
   ],
   "source": [
    "url='http://www.4399dmw.com/haizeiwang/tupian/'\n",
    "HTML= requests.get(url).text\n",
    "print(HTML)"
   ]
  },
  {
   "cell_type": "code",
   "execution_count": 19,
   "metadata": {},
   "outputs": [
    {
     "data": {
      "text/plain": [
       "['a', 'b', 'c']"
      ]
     },
     "execution_count": 19,
     "metadata": {},
     "output_type": "execute_result"
    }
   ],
   "source": [
    "a=\"a b c\"\n",
    "a.split()   #分割"
   ]
  },
  {
   "cell_type": "code",
   "execution_count": null,
   "metadata": {},
   "outputs": [],
   "source": []
  },
  {
   "cell_type": "markdown",
   "metadata": {},
   "source": [
    "## 转换字符串\n",
    "![](../Photo/101.png)"
   ]
  },
  {
   "cell_type": "code",
   "execution_count": 20,
   "metadata": {},
   "outputs": [
    {
     "data": {
      "text/plain": [
       "'Zhao'"
      ]
     },
     "execution_count": 20,
     "metadata": {},
     "output_type": "execute_result"
    }
   ],
   "source": [
    "a='zhao'\n",
    "a.capitalize()  #开头字母大写"
   ]
  },
  {
   "cell_type": "code",
   "execution_count": 21,
   "metadata": {},
   "outputs": [
    {
     "data": {
      "text/plain": [
       "'zhao'"
      ]
     },
     "execution_count": 21,
     "metadata": {},
     "output_type": "execute_result"
    }
   ],
   "source": [
    "a='ZHAO'\n",
    "a.swapcase()"
   ]
  },
  {
   "cell_type": "code",
   "execution_count": 22,
   "metadata": {},
   "outputs": [
    {
     "data": {
      "text/plain": [
       "'HHAO'"
      ]
     },
     "execution_count": 22,
     "metadata": {},
     "output_type": "execute_result"
    }
   ],
   "source": [
    "a='ZHAO'\n",
    "a.replace('Z','H')"
   ]
  },
  {
   "cell_type": "markdown",
   "metadata": {},
   "source": [
    "## 删除字符串\n",
    "![](../Photo/146.png)"
   ]
  },
  {
   "cell_type": "code",
   "execution_count": 23,
   "metadata": {},
   "outputs": [
    {
     "data": {
      "text/plain": [
       "'ABCD'"
      ]
     },
     "execution_count": 23,
     "metadata": {},
     "output_type": "execute_result"
    }
   ],
   "source": [
    "B=' ABCD '\n",
    "B.strip()   #两边删空格   l 左边删   r右边删空格"
   ]
  },
  {
   "cell_type": "markdown",
   "metadata": {},
   "source": [
    "## 格式化字符串\n",
    "![](../Photo/103.png)"
   ]
  },
  {
   "cell_type": "markdown",
   "metadata": {},
   "source": [
    "## EP:\n",
    "- 1\n",
    "![](../Photo/104.png)\n",
    "- 2 \n",
    "    随机参数100个数字，将www.baidu.com/?page=进行拼接"
   ]
  },
  {
   "cell_type": "markdown",
   "metadata": {},
   "source": [
    "## Python高级使用方法 -- 字符串\n",
    "- 我们经常使用的方法实际上就是调用Python的运算重载\n",
    "![](../Photo/105.png)"
   ]
  },
  {
   "cell_type": "markdown",
   "metadata": {},
   "source": [
    "# Homework\n",
    "- 1\n",
    "![](../Photo/106.png)"
   ]
  },
  {
   "cell_type": "code",
   "execution_count": 14,
   "metadata": {},
   "outputs": [],
   "source": [
    "def n():\n",
    "    n=ddd-dd-dddd\n",
    "    print(n)"
   ]
  },
  {
   "cell_type": "code",
   "execution_count": 15,
   "metadata": {},
   "outputs": [
    {
     "ename": "TypeError",
     "evalue": "n() takes 0 positional arguments but 1 was given",
     "output_type": "error",
     "traceback": [
      "\u001b[1;31m---------------------------------------------------------------------------\u001b[0m",
      "\u001b[1;31mTypeError\u001b[0m                                 Traceback (most recent call last)",
      "\u001b[1;32m<ipython-input-15-2f1548cce9f4>\u001b[0m in \u001b[0;36m<module>\u001b[1;34m\u001b[0m\n\u001b[1;32m----> 1\u001b[1;33m \u001b[0mn\u001b[0m\u001b[1;33m(\u001b[0m\u001b[1;36m123\u001b[0m\u001b[1;33m-\u001b[0m\u001b[1;36m44\u001b[0m\u001b[1;33m-\u001b[0m\u001b[1;36m3456\u001b[0m\u001b[1;33m)\u001b[0m\u001b[1;33m\u001b[0m\u001b[1;33m\u001b[0m\u001b[0m\n\u001b[0m",
      "\u001b[1;31mTypeError\u001b[0m: n() takes 0 positional arguments but 1 was given"
     ]
    }
   ],
   "source": [
    "n(123-44-3456)"
   ]
  },
  {
   "cell_type": "markdown",
   "metadata": {},
   "source": [
    "- 2\n",
    "![](../Photo/107.png)"
   ]
  },
  {
   "cell_type": "code",
   "execution_count": 24,
   "metadata": {},
   "outputs": [
    {
     "name": "stdout",
     "output_type": "stream",
     "text": [
      "False\n"
     ]
    }
   ],
   "source": [
    "import string\n",
    "s='hell,zhao'\n",
    "b='hello'\n",
    "n=str.find(s,b)!=-1\n",
    "print(n)"
   ]
  },
  {
   "cell_type": "markdown",
   "metadata": {},
   "source": [
    "- 3\n",
    "![](../Photo/108.png)"
   ]
  },
  {
   "cell_type": "code",
   "execution_count": null,
   "metadata": {},
   "outputs": [],
   "source": []
  },
  {
   "cell_type": "markdown",
   "metadata": {},
   "source": [
    "- 4\n",
    "![](../Photo/109.png)"
   ]
  },
  {
   "cell_type": "code",
   "execution_count": 68,
   "metadata": {},
   "outputs": [],
   "source": [
    "def countletters(s):\n",
    "    count_a=0\n",
    "    for i in s:\n",
    "        if (ord(i)>=97 and ord(i)<=122) or (ord(i)>=65 and ord(i)<=90):\n",
    "            count_a=count_a+1\n",
    "        print (count_a)\n",
    "            "
   ]
  },
  {
   "cell_type": "code",
   "execution_count": 69,
   "metadata": {},
   "outputs": [
    {
     "name": "stdout",
     "output_type": "stream",
     "text": [
      "1\n",
      "2\n",
      "3\n",
      "4\n",
      "5\n"
     ]
    }
   ],
   "source": [
    "countletters('acvbd')"
   ]
  },
  {
   "cell_type": "markdown",
   "metadata": {},
   "source": [
    "- 5\n",
    "![](../Photo/110.png)"
   ]
  },
  {
   "cell_type": "code",
   "execution_count": null,
   "metadata": {},
   "outputs": [],
   "source": [
    "def getnumber(uppercaseletter):\n",
    "    "
   ]
  },
  {
   "cell_type": "markdown",
   "metadata": {},
   "source": [
    "- 6\n",
    "![](../Photo/111.png)"
   ]
  },
  {
   "cell_type": "code",
   "execution_count": 28,
   "metadata": {},
   "outputs": [],
   "source": [
    "s='fghg'\n",
    "def reverse(s):\n",
    "    l=list(s)\n",
    "    l.reverse()\n",
    "    print(\"\".join(l))\n",
    "        "
   ]
  },
  {
   "cell_type": "code",
   "execution_count": 29,
   "metadata": {},
   "outputs": [
    {
     "name": "stdout",
     "output_type": "stream",
     "text": [
      "ghgf\n"
     ]
    }
   ],
   "source": [
    "reverse(s)"
   ]
  },
  {
   "cell_type": "code",
   "execution_count": 14,
   "metadata": {},
   "outputs": [
    {
     "data": {
      "text/plain": [
       "'oahz'"
      ]
     },
     "execution_count": 14,
     "metadata": {},
     "output_type": "execute_result"
    }
   ],
   "source": [
    "s='zhao'\n",
    "s[::-1]"
   ]
  },
  {
   "cell_type": "markdown",
   "metadata": {},
   "source": [
    "- 7\n",
    "![](../Photo/112.png)"
   ]
  },
  {
   "cell_type": "markdown",
   "metadata": {},
   "source": [
    "- 8\n",
    "![](../Photo/113.png)"
   ]
  },
  {
   "cell_type": "markdown",
   "metadata": {},
   "source": [
    "- 9\n",
    "![](../Photo/114.png)"
   ]
  }
 ],
 "metadata": {
  "kernelspec": {
   "display_name": "Python 3",
   "language": "python",
   "name": "python3"
  },
  "language_info": {
   "codemirror_mode": {
    "name": "ipython",
    "version": 3
   },
   "file_extension": ".py",
   "mimetype": "text/x-python",
   "name": "python",
   "nbconvert_exporter": "python",
   "pygments_lexer": "ipython3",
   "version": "3.7.3"
  }
 },
 "nbformat": 4,
 "nbformat_minor": 2
}
