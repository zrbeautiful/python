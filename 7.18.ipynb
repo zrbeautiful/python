{
 "cells": [
  {
   "cell_type": "markdown",
   "metadata": {},
   "source": [
    "# 选择\n",
    "## 布尔类型、数值和表达式\n",
    "![](../Photo/33.png)\n",
    "- 注意：比较运算符的相等是两个等号，一个等到代表赋值\n",
    "- 在Python中可以用整型0来代表False，其他数字来代表True\n",
    "- 后面还会讲到 is 在判断语句中的用发"
   ]
  },
  {
   "cell_type": "code",
   "execution_count": 1,
   "metadata": {},
   "outputs": [
    {
     "data": {
      "text/plain": [
       "True"
      ]
     },
     "execution_count": 1,
     "metadata": {},
     "output_type": "execute_result"
    }
   ],
   "source": [
    "1<=2<=3"
   ]
  },
  {
   "cell_type": "code",
   "execution_count": 4,
   "metadata": {},
   "outputs": [],
   "source": [
    "while 0:\n",
    "    print('zhao')"
   ]
  },
  {
   "cell_type": "code",
   "execution_count": 5,
   "metadata": {},
   "outputs": [
    {
     "name": "stdout",
     "output_type": "stream",
     "text": [
      "140708011414336 140708011414336\n"
     ]
    },
    {
     "data": {
      "text/plain": [
       "False"
      ]
     },
     "execution_count": 5,
     "metadata": {},
     "output_type": "execute_result"
    }
   ],
   "source": [
    "a=id(1)#id是表示储存中的地址   ==是判断是否相等\n",
    "b=id(1)\n",
    "#a和b不是同一个对象\n",
    "print(a,b)\n",
    "a is b"
   ]
  },
  {
   "cell_type": "code",
   "execution_count": 6,
   "metadata": {},
   "outputs": [
    {
     "data": {
      "text/plain": [
       "True"
      ]
     },
     "execution_count": 6,
     "metadata": {},
     "output_type": "execute_result"
    }
   ],
   "source": [
    "a=id(1)\n",
    "b=a\n",
    "a is b"
   ]
  },
  {
   "cell_type": "code",
   "execution_count": null,
   "metadata": {},
   "outputs": [],
   "source": [
    "## 字符串的比较使用ASCII值"
   ]
  },
  {
   "cell_type": "markdown",
   "metadata": {},
   "source": [
    "## Markdown \n",
    "- https://github.com/younghz/Markdown"
   ]
  },
  {
   "cell_type": "markdown",
   "metadata": {},
   "source": [
    "## EP:\n",
    "- <img src=\"../Photo/34.png\"></img>\n",
    "- 输入一个数字，判断其实奇数还是偶数"
   ]
  },
  {
   "cell_type": "code",
   "execution_count": null,
   "metadata": {},
   "outputs": [],
   "source": [
    "i=int(True)"
   ]
  },
  {
   "cell_type": "markdown",
   "metadata": {},
   "source": [
    "## 产生随机数字\n",
    "- 函数random.randint(a,b) 可以用来产生一个a和b之间且包括a和b的随机整数"
   ]
  },
  {
   "cell_type": "markdown",
   "metadata": {},
   "source": [
    "产生一个随机数，你去输入，如果你输入的数大于随机数，那么就告诉你太大了，反之，太小了，\n",
    "然后你一直输入，知道它满意为止"
   ]
  },
  {
   "cell_type": "code",
   "execution_count": null,
   "metadata": {},
   "outputs": [],
   "source": [
    "random.randint(1,10)"
   ]
  },
  {
   "cell_type": "code",
   "execution_count": 41,
   "metadata": {},
   "outputs": [
    {
     "name": "stdout",
     "output_type": "stream",
     "text": [
      "请输入一个数:1\n",
      "太小了\n",
      "请输入一个数:3\n",
      "太小了\n",
      "请输入一个数:5\n",
      "太小了\n",
      "太大了\n",
      "请输入一个数:4.4\n",
      "太小了\n",
      "请输入一个数:4\n",
      "太大了\n"
     ]
    }
   ],
   "source": [
    "### import random\n",
    "for i in range(5):#循环5次\n",
    "    n1=eval(input('请输入一个数:'))#eval将input的类型变成表达式\n",
    "    if n1<random.randint(1,10):\n",
    "        print('太小了')\n",
    "    if n1>random.randint(1,10):\n",
    "        print('太大了')\n",
    "    if n1==random.randint(1,10):\n",
    "        print('正好')\n",
    "        break\n",
    "    "
   ]
  },
  {
   "cell_type": "markdown",
   "metadata": {},
   "source": [
    "#####  其他random方法\n",
    "- random.random 返回0.0到1.0之间前闭后开区间的随机浮点\n",
    "- random.randrange(a,b) 前闭后开"
   ]
  },
  {
   "cell_type": "code",
   "execution_count": 3,
   "metadata": {},
   "outputs": [
    {
     "data": {
      "text/plain": [
       "0"
      ]
     },
     "execution_count": 3,
     "metadata": {},
     "output_type": "execute_result"
    }
   ],
   "source": [
    "import random\n",
    "random.randint(0,1)"
   ]
  },
  {
   "cell_type": "markdown",
   "metadata": {},
   "source": [
    "## EP：\n",
    "- 产生两个随机整数number1和number2，然后显示给用户，使用户输入数字的和，并判定其是否正确\n",
    "- 进阶:写一个随机序号点名程序"
   ]
  },
  {
   "cell_type": "code",
   "execution_count": null,
   "metadata": {},
   "outputs": [],
   "source": []
  },
  {
   "cell_type": "code",
   "execution_count": null,
   "metadata": {},
   "outputs": [],
   "source": [
    "a=random.randrange(0,10)\n",
    "b=random.randrange(0,4)"
   ]
  },
  {
   "cell_type": "code",
   "execution_count": null,
   "metadata": {},
   "outputs": [],
   "source": [
    "while 1:\n",
    "    n1=eval(input('请输入一个数'))\n",
    "    if n1==a+b:\n",
    "        print('正确')\n",
    "    else:\n",
    "        print('错误')"
   ]
  },
  {
   "cell_type": "markdown",
   "metadata": {},
   "source": [
    "## if语句\n",
    "- 如果条件正确就执行一个单向if语句，亦即当条件为真的时候才执行if内部的语句\n",
    "- Python有很多选择语句:\n",
    "> - 单向if \n",
    "  - 双向if-else\n",
    "  - 嵌套if\n",
    "  - 多向if-elif-else\n",
    "  \n",
    "- 注意：当语句含有子语句的时候，那么一定至少要有一个缩进，也就是说如果有儿子存在，那么一定要缩进\n",
    "- 切记不可tab键和space混用，单用tab 或者 space\n",
    "- 当你输出的结果是无论if是否为真时都需要显示时，语句应该与if对齐"
   ]
  },
  {
   "cell_type": "code",
   "execution_count": 2,
   "metadata": {},
   "outputs": [
    {
     "ename": "SyntaxError",
     "evalue": "invalid syntax (<ipython-input-2-564802e099d4>, line 2)",
     "output_type": "error",
     "traceback": [
      "\u001b[1;36m  File \u001b[1;32m\"<ipython-input-2-564802e099d4>\"\u001b[1;36m, line \u001b[1;32m2\u001b[0m\n\u001b[1;33m    if age='y':\u001b[0m\n\u001b[1;37m          ^\u001b[0m\n\u001b[1;31mSyntaxError\u001b[0m\u001b[1;31m:\u001b[0m invalid syntax\n"
     ]
    }
   ],
   "source": [
    "age=eval(input(\"---\"))\n",
    "if age='y':\n",
    "    handsome = input('是否帅[y/n]')\n",
    "    if handsome =='y':\n",
    "        wife=input('是否有老婆[y/n]')\n",
    "        if wife=='y':\n",
    "            print('回家')\n",
    "            else:\n",
    "                print('结婚')\n",
    "            \n",
    "else : \n",
    "        print(\"拜拜\")\n",
    "    "
   ]
  },
  {
   "cell_type": "markdown",
   "metadata": {},
   "source": [
    "## EP：\n",
    "- 用户输入一个数字，判断其实奇数还是偶数\n",
    "- 进阶：可以查看下4.5实例研究猜生日"
   ]
  },
  {
   "cell_type": "markdown",
   "metadata": {},
   "source": [
    "## 双向if-else 语句\n",
    "- 如果条件为真，那么走if内部语句，否则走else内部语句"
   ]
  },
  {
   "cell_type": "markdown",
   "metadata": {},
   "source": [
    "## EP：\n",
    "- 产生两个随机整数number1和number2，然后显示给用户，使用户输入数字，并判定其是否正确,如果正确打印“you‘re correct”，否则打印正确错误"
   ]
  },
  {
   "cell_type": "markdown",
   "metadata": {},
   "source": [
    "## 嵌套if 和多向if-elif-else\n",
    "![](../Photo/35.png)"
   ]
  },
  {
   "cell_type": "markdown",
   "metadata": {},
   "source": [
    "## EP：\n",
    "- 提示用户输入一个年份，然后显示表示这一年的动物\n",
    "![](../Photo/36.png)\n",
    "- 计算身体质量指数的程序\n",
    "- BMI = 以千克为单位的体重除以以米为单位的身高的平方\n",
    "![](../Photo/37.png)"
   ]
  },
  {
   "cell_type": "code",
   "execution_count": 10,
   "metadata": {},
   "outputs": [
    {
     "name": "stdout",
     "output_type": "stream",
     "text": [
      "输入一个年份1997\n",
      "虎\n"
     ]
    }
   ],
   "source": [
    "year=eval(input('输入一个年份'))\n",
    "if year % 12 == 0:\n",
    "    nian=\"猴\"\n",
    "elif year % 12==1:\n",
    "    nian='鸡'\n",
    "elif year % 12==2:\n",
    "    nian='狗'\n",
    "elif year % 12==3:\n",
    "    nian='猪'\n",
    "elif year % 12==4:\n",
    "    nian='牛'\n",
    "elif year % 12==5:\n",
    "    nian='虎'\n",
    "elif year % 12==6:\n",
    "    nian='兔'\n",
    "elif year % 12==7:\n",
    "    nian=\"龙\"\n",
    "print(nian)"
   ]
  },
  {
   "cell_type": "code",
   "execution_count": 9,
   "metadata": {},
   "outputs": [
    {
     "name": "stdout",
     "output_type": "stream",
     "text": [
      "身高55\n",
      "输入体重169\n",
      "超轻\n"
     ]
    }
   ],
   "source": [
    "high=eval(input('身高'))\n",
    "weight=eval(input('输入体重'))\n",
    "BMI=weight/(high*high)\n",
    "if BMI<18.5:\n",
    "  print('超轻')\n",
    "elif 18.5<=BMI<25:\n",
    "  print('标准')\n",
    "elif 25<=BMI<30:\n",
    "  print(超重)\n",
    "elif BMI<=30:\n",
    "  print('痴肥')"
   ]
  },
  {
   "cell_type": "markdown",
   "metadata": {},
   "source": [
    "## 逻辑运算符\n",
    "![](../Photo/38.png)"
   ]
  },
  {
   "cell_type": "markdown",
   "metadata": {},
   "source": [
    "![](../Photo/39.png)\n",
    "![](../Photo/40.png)"
   ]
  },
  {
   "cell_type": "markdown",
   "metadata": {},
   "source": [
    "## EP：\n",
    "- 判定闰年：一个年份如果能被4整除但不能被100整除，或者能被400整除，那么这个年份就是闰年\n",
    "- 提示用户输入一个年份，并返回是否是闰年\n",
    "- 提示用户输入一个数字，判断其是否为水仙花数"
   ]
  },
  {
   "cell_type": "code",
   "execution_count": 18,
   "metadata": {},
   "outputs": [
    {
     "name": "stdout",
     "output_type": "stream",
     "text": [
      "输入一个年份:2009\n",
      "平年\n"
     ]
    }
   ],
   "source": [
    "year=eval(input('输入一个年份:'))\n",
    "if (year % 4==0 and not year % 100==1) or (year % 400==0):\n",
    "    print('闰年')\n",
    "else:\n",
    "    print('平年')\n",
    " "
   ]
  },
  {
   "cell_type": "code",
   "execution_count": 26,
   "metadata": {},
   "outputs": [
    {
     "name": "stdout",
     "output_type": "stream",
     "text": [
      "123\n",
      "不是水仙花\n"
     ]
    }
   ],
   "source": [
    "num=eval(input(''))\n",
    "\n",
    "bai =num//100  #取百位、取十位\n",
    "shi=num//10 % 10\n",
    "ge =num % 10\n",
    "if bai ** 3+shi ** 3+ge ** 3 == num:\n",
    "    print('水仙花')\n",
    "else:\n",
    "    print('不是水仙花')"
   ]
  },
  {
   "cell_type": "markdown",
   "metadata": {},
   "source": [
    "## 实例研究：彩票\n",
    "![](../Photo/41.png)"
   ]
  },
  {
   "cell_type": "code",
   "execution_count": 3,
   "metadata": {},
   "outputs": [
    {
     "name": "stdout",
     "output_type": "stream",
     "text": [
      "34\n",
      ">>34\n",
      "10000\n"
     ]
    }
   ],
   "source": [
    "import random\n",
    "number = random.randint(10,99)\n",
    "print(number)\n",
    "N=input('>>')\n",
    "number_shi=number//10\n",
    "number_ge=number%10\n",
    "if N[0] == '0':\n",
    "    N_shi == 0\n",
    "else:\n",
    "    N_shi=int(N)//10\n",
    "    N_ge=int(N)%10\n",
    "\n",
    "if number == int(N):\n",
    "    print('10000')\n",
    "#elif (number_shi==N_shi or number_shi==N_ge)and(number_ge==N_shi or number_ge==N_ge):\n",
    "elif number_shi+number_ge==N_shi+N_ge:\n",
    "    print('1000')\n",
    "elif (number_ge==N_ge or number_ge==N_shi)or(number_shi==N_ge or number_shi==N_shi):\n",
    "    print('1000')"
   ]
  },
  {
   "cell_type": "markdown",
   "metadata": {},
   "source": [
    "# Homework\n",
    "- 1\n",
    "![](../Photo/42.png)"
   ]
  },
  {
   "cell_type": "code",
   "execution_count": 17,
   "metadata": {},
   "outputs": [
    {
     "ename": "SyntaxError",
     "evalue": "invalid syntax (<ipython-input-17-363475727e2d>, line 6)",
     "output_type": "error",
     "traceback": [
      "\u001b[1;36m  File \u001b[1;32m\"<ipython-input-17-363475727e2d>\"\u001b[1;36m, line \u001b[1;32m6\u001b[0m\n\u001b[1;33m    r2=-b-(math.pow(((math.pow(b,2)-4*a*c),1/2))/2*a\u001b[0m\n\u001b[1;37m     ^\u001b[0m\n\u001b[1;31mSyntaxError\u001b[0m\u001b[1;31m:\u001b[0m invalid syntax\n"
     ]
    }
   ],
   "source": [
    "## import math\n",
    "a=eval(input('请输入一个数'))\n",
    "b=eval(input('请输入一个数'))\n",
    "c=eval(input('请输入一个数'))\n",
    "r1=-b+(math.pow(((math.pow(b,2)-4*a*c),1/2))/2*a\n",
    "r2=-b-(math.pow(((math.pow(b,2)-4*a*c),1/2))/2*a\n",
    "print(r1=r2)"
   ]
  },
  {
   "cell_type": "markdown",
   "metadata": {},
   "source": [
    "- 2\n",
    "![](../Photo/43.png)"
   ]
  },
  {
   "cell_type": "code",
   "execution_count": null,
   "metadata": {},
   "outputs": [
    {
     "name": "stdout",
     "output_type": "stream",
     "text": [
      "请输入一个数1\n",
      "错误\n",
      "请输入一个数45\n",
      "错误\n",
      "请输入一个数50\n",
      "错误\n",
      "请输入一个数10\n",
      "错误\n"
     ]
    }
   ],
   "source": [
    "import random\n",
    "a = random.randint(0,99)\n",
    "b = random.randint(0,99)\n",
    "while 1:\n",
    "    n1=eval(input('请输入一个数'))\n",
    "    if n1==a+b:\n",
    "        print('正确')\n",
    "    else:\n",
    "        print('错误')"
   ]
  },
  {
   "cell_type": "markdown",
   "metadata": {},
   "source": [
    "- 3\n",
    "![](../Photo/44.png)"
   ]
  },
  {
   "cell_type": "code",
   "execution_count": 4,
   "metadata": {},
   "outputs": [
    {
     "name": "stdout",
     "output_type": "stream",
     "text": [
      "周几:0\n",
      "星期天\n"
     ]
    }
   ],
   "source": [
    "week=eval(input('数字哪天:'))\n",
    "yu=eval(input(''))\n",
    "if week==0:\n",
    "    d=('星期天')\n",
    "if week==1:\n",
    "    d=('星期一')\n",
    "if week==2:\n",
    "    d=('星期二')\n",
    "if week==3:\n",
    "    d=('星期三')\n",
    "if week==4:\n",
    "    d=('星期四')\n",
    "if week==5:\n",
    "    d=('星期五')\n",
    "if week==6:\n",
    "    d=('星期六')\n",
    "print(d)"
   ]
  },
  {
   "cell_type": "markdown",
   "metadata": {},
   "source": [
    "- 4\n",
    "![](../Photo/45.png)"
   ]
  },
  {
   "cell_type": "code",
   "execution_count": 1,
   "metadata": {},
   "outputs": [
    {
     "name": "stdout",
     "output_type": "stream",
     "text": [
      "第一个整数1\n",
      "第二个整数2\n",
      "第三个整数3\n",
      "1 2 3\n"
     ]
    }
   ],
   "source": [
    "a=eval(input('第一个整数'))\n",
    "b=eval(input('第二个整数'))\n",
    "c=eval(input('第三个整数'))\n",
    "if a>b>c:\n",
    "    print(c,b,a)\n",
    "elif a>c>b:\n",
    "    print(b,c,a)\n",
    "elif b>a>c:\n",
    "    print(c,a,c)\n",
    "elif b>c>a:\n",
    "    print(a,c,b)\n",
    "elif c>a>b:\n",
    "    print(b,a,c)\n",
    "elif c>b>a:\n",
    "    print(a,b,c)\n",
    "else:\n",
    "    print(a,b,c)\n",
    "    "
   ]
  },
  {
   "cell_type": "markdown",
   "metadata": {},
   "source": [
    "- 5\n",
    "![](../Photo/46.png)"
   ]
  },
  {
   "cell_type": "code",
   "execution_count": 5,
   "metadata": {},
   "outputs": [
    {
     "name": "stdout",
     "output_type": "stream",
     "text": [
      "w1 ,p1 50,24.59\n",
      "w2 ,p2 50,100\n",
      "第一种价格更好\n"
     ]
    }
   ],
   "source": [
    "weight,price=eval(input('w1 ,p1 '))\n",
    "weight2,price2=eval(input('w2 ,p2 '))\n",
    "if (weight2*price2)<(weight*price):\n",
    "    print('第二种价格更好')\n",
    "else:\n",
    "    print('第一种价格更好')"
   ]
  },
  {
   "cell_type": "markdown",
   "metadata": {},
   "source": [
    "- 6\n",
    "![](../Photo/47.png)"
   ]
  },
  {
   "cell_type": "code",
   "execution_count": 21,
   "metadata": {},
   "outputs": [
    {
     "name": "stdout",
     "output_type": "stream",
     "text": [
      "输入年份：2019\n",
      "输入月份：2\n",
      "本月28天\n"
     ]
    }
   ],
   "source": [
    "##定义年月\n",
    "year=int(input('输入年份：'))\n",
    "moth=int(input('输入月份：'))\n",
    "j1=year%4\n",
    "j2=year%100\n",
    "j3=year%400  ##判断是否是闰年\n",
    "if (j1==0 and j2 !=0)or (j3 ==0):\n",
    "    if(moth !=2):#判断是否是二月\n",
    "        if(moth ==1 or moth == 3 or moth==5 or moth==7)or(moth ==8 or moth == 10 or moth==12 ):\n",
    "            print('这个月有31天')\n",
    "        else:\n",
    "            print('这个月有30天')\n",
    "    else:\n",
    "            print('本月29天')\n",
    "else:\n",
    "    if(moth !=2):#判断是否是二月\n",
    "        if(moth ==1 or moth == 3 or moth==5 or moth==7)or(moth ==8 or moth == 10 or moth==12 ):\n",
    "            print('这个月有31天')\n",
    "        else:\n",
    "            print('这个月有30天')\n",
    "    else:\n",
    "            print('本月28天')"
   ]
  },
  {
   "cell_type": "markdown",
   "metadata": {},
   "source": [
    "- 7\n",
    "![](../Photo/48.png)"
   ]
  },
  {
   "cell_type": "code",
   "execution_count": null,
   "metadata": {},
   "outputs": [
    {
     "name": "stdout",
     "output_type": "stream",
     "text": [
      "请输入1或2:1\n",
      "错误\n",
      "请输入1或2:2\n",
      "正确\n",
      "请输入1或2:2\n",
      "正确\n",
      "请输入1或2:1\n",
      "错误\n"
     ]
    }
   ],
   "source": [
    "import random\n",
    "a = random.randint(0,3)\n",
    "while 1:\n",
    "    n1=eval(input('请输入1或2:'))#正面是1，反面是2\n",
    "    if n1==a:\n",
    "        print('正确')\n",
    "    else:\n",
    "        print('错误')"
   ]
  },
  {
   "cell_type": "markdown",
   "metadata": {},
   "source": [
    "- 8\n",
    "![](../Photo/49.png)"
   ]
  },
  {
   "cell_type": "code",
   "execution_count": 3,
   "metadata": {},
   "outputs": [
    {
     "name": "stdout",
     "output_type": "stream",
     "text": [
      "请输入您要出的石头（1）/剪刀（2）/布（3）：2\n",
      "玩家出的是2-电脑出的是1\n",
      "玩家输\n"
     ]
    }
   ],
   "source": [
    "import random\n",
    "yh=eval(input(\"请输入您要出的石头（1）/剪刀（2）/布（3）：\"))\n",
    "choice=['1','2','3']\n",
    "computer= random.sample(choice,1)\n",
    "computer_1=computer[0]\n",
    "print(\"玩家出的是%s-电脑出的是%s\"%(yh,computer_1))\n",
    "if(yh=='1'and computer_1=='3')or(yh=='3'and computer_1=='1')or(yh=='2'and computer_1=='3'):\n",
    "    print('玩家获胜!')\n",
    "elif yh==computer_1:\n",
    "    print('平局')\n",
    "else:\n",
    "    print('玩家输')"
   ]
  },
  {
   "cell_type": "markdown",
   "metadata": {},
   "source": [
    "- 9\n",
    "![](../Photo/50.png)"
   ]
  },
  {
   "cell_type": "markdown",
   "metadata": {},
   "source": [
    "- 10\n",
    "![](../Photo/51.png)"
   ]
  },
  {
   "cell_type": "code",
   "execution_count": 4,
   "metadata": {},
   "outputs": [
    {
     "ename": "IndentationError",
     "evalue": "unexpected indent (<ipython-input-4-577711ce20a6>, line 9)",
     "output_type": "error",
     "traceback": [
      "\u001b[1;36m  File \u001b[1;32m\"<ipython-input-4-577711ce20a6>\"\u001b[1;36m, line \u001b[1;32m9\u001b[0m\n\u001b[1;33m    print('poker')\u001b[0m\n\u001b[1;37m    ^\u001b[0m\n\u001b[1;31mIndentationError\u001b[0m\u001b[1;31m:\u001b[0m unexpected indent\n"
     ]
    }
   ],
   "source": [
    "import random\n",
    "color=random.randint(0,4)\n",
    "huase=['黑桃','红桃','梅花','方块']\n",
    "card=['A','1','2','3','4','5','6','7','8','9','10','J','Q','K']\n",
    "if color in range (0,4):\n",
    "    value=random.randint(0,12)\n",
    "elif color == 4:\n",
    "     poker=huase[color]+card[value]\n",
    "        print('poker')"
   ]
  },
  {
   "cell_type": "markdown",
   "metadata": {},
   "source": [
    "- 11\n",
    "![](../Photo/52.png)"
   ]
  },
  {
   "cell_type": "code",
   "execution_count": 19,
   "metadata": {},
   "outputs": [
    {
     "name": "stdout",
     "output_type": "stream",
     "text": [
      "输入一个三位整数123\n",
      "不是回文数\n"
     ]
    }
   ],
   "source": [
    "x=input('输入一个三位整数')\n",
    "str_x=str(x)\n",
    "if str_x==str_x[::-1]:  #切片\n",
    "    print('回文数')\n",
    "else:\n",
    "    print('不是回文数')\n"
   ]
  },
  {
   "cell_type": "code",
   "execution_count": 22,
   "metadata": {},
   "outputs": [
    {
     "ename": "SyntaxError",
     "evalue": "invalid syntax (<ipython-input-22-de245b2fd72a>, line 5)",
     "output_type": "error",
     "traceback": [
      "\u001b[1;36m  File \u001b[1;32m\"<ipython-input-22-de245b2fd72a>\"\u001b[1;36m, line \u001b[1;32m5\u001b[0m\n\u001b[1;33m    if str_y=i+str_y\u001b[0m\n\u001b[1;37m            ^\u001b[0m\n\u001b[1;31mSyntaxError\u001b[0m\u001b[1;31m:\u001b[0m invalid syntax\n"
     ]
    }
   ],
   "source": [
    "x=input('输入一个三位整数')\n",
    "str_x=str(x)\n",
    "str_y=\"\"\n",
    "for i in str_x:\n",
    "    if str_y=i+str_y\n",
    "print('回文数')\n"
   ]
  },
  {
   "cell_type": "markdown",
   "metadata": {},
   "source": [
    "- 12\n",
    "![](../Photo/53.png)"
   ]
  },
  {
   "cell_type": "code",
   "execution_count": 13,
   "metadata": {},
   "outputs": [
    {
     "name": "stdout",
     "output_type": "stream",
     "text": [
      " 3\n",
      " 4\n",
      " 5\n",
      "周长是 12\n"
     ]
    }
   ],
   "source": [
    "a=eval(input(' '))\n",
    "b=eval(input(' '))\n",
    "c=eval(input(' '))\n",
    "if (a+b>c )and(a+c>b)and(b+c>a):\n",
    "    d=a+b+c\n",
    "    print('周长是',d)\n",
    "else:\n",
    "    print('输入非法')\n"
   ]
  }
 ],
 "metadata": {
  "kernelspec": {
   "display_name": "Python 3",
   "language": "python",
   "name": "python3"
  },
  "language_info": {
   "codemirror_mode": {
    "name": "ipython",
    "version": 3
   },
   "file_extension": ".py",
   "mimetype": "text/x-python",
   "name": "python",
   "nbconvert_exporter": "python",
   "pygments_lexer": "ipython3",
   "version": "3.7.3"
  }
 },
 "nbformat": 4,
 "nbformat_minor": 2
}
