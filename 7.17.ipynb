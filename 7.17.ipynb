{
 "cells": [
  {
   "cell_type": "markdown",
   "metadata": {},
   "source": [
    "# 数学函数、字符串和对象\n",
    "## 本章介绍Python函数来执行常见的数学运算\n",
    "- 函数是完成一个特殊任务的一组语句，可以理解为一个函数相当于一个小功能，但是在开发中，需要注意一个函数的长度最好不要超过一屏\n",
    "- Python中的内置函数是不需要Import导入的\n",
    "<img src=\"../Photo/15.png\"></img>"
   ]
  },
  {
   "cell_type": "markdown",
   "metadata": {},
   "source": [
    "## 尝试练习Python内置函数"
   ]
  },
  {
   "cell_type": "markdown",
   "metadata": {},
   "source": [
    "## Python中的math模块提供了许多数学函数\n",
    "<img src=\"../Photo/16.png\"></img>\n",
    "<img src=\"../Photo/17.png\"></img>\n"
   ]
  },
  {
   "cell_type": "markdown",
   "metadata": {},
   "source": [
    "## 两个数学常量PI和e，可以通过使用math.pi 和math.e调用"
   ]
  },
  {
   "cell_type": "markdown",
   "metadata": {},
   "source": [
    "## EP:\n",
    "- 通过math库，写一个程序，使得用户输入三个顶点(x,y)返回三个角度\n",
    "- 注意：Python计算角度为弧度制，需要将其转换为角度\n",
    "<img src=\"../Photo/18.png\">"
   ]
  },
  {
   "cell_type": "code",
   "execution_count": 11,
   "metadata": {},
   "outputs": [
    {
     "name": "stdout",
     "output_type": "stream",
     "text": [
      "x1,y11,2\n",
      "x2,y20,1\n",
      "x3,y30,2\n",
      "44.999999999999986\n",
      "44.999999999999986\n",
      "90.00000000000001\n"
     ]
    }
   ],
   "source": [
    "import math\n",
    "x1,y1=eval(input('x1,y1'))\n",
    "x2,y2=eval(input('x2,y2'))\n",
    "x3,y3=eval(input('x3,y3'))\n",
    "a=math.sqrt(math.pow(x2-x3,2)+math.pow(y2-y3,2))\n",
    "b=math.sqrt(math.pow(x1-x3,2)+math.pow(y1-y3,2))\n",
    "c=math.sqrt(math.pow(x2-x1,2)+math.pow(y2-y1,2))\n",
    "part_1=-2*b*c\n",
    "part_2=-2*a*c\n",
    "part_3=-2*a*b\n",
    "A=math.acos((math.pow(a,2)-math.pow(b,2)-math.pow(c,2))/part_1)\n",
    "B=math.acos((math.pow(b,2)-math.pow(a,2)-math.pow(c,2))/part_2)\n",
    "C=math.acos((math.pow(c,2)-math.pow(b,2)-math.pow(a,2))/part_3)\n",
    "print(math.degrees(A))\n",
    "print(math.degrees(B))\n",
    "print(math.degrees(C))"
   ]
  },
  {
   "cell_type": "code",
   "execution_count": 17,
   "metadata": {},
   "outputs": [
    {
     "ename": "SyntaxError",
     "evalue": "invalid syntax (<ipython-input-17-9e56acd80b2b>, line 6)",
     "output_type": "error",
     "traceback": [
      "\u001b[1;36m  File \u001b[1;32m\"<ipython-input-17-9e56acd80b2b>\"\u001b[1;36m, line \u001b[1;32m6\u001b[0m\n\u001b[1;33m    if a+b>c & b+c>a & a+c>b\u001b[0m\n\u001b[1;37m                            ^\u001b[0m\n\u001b[1;31mSyntaxError\u001b[0m\u001b[1;31m:\u001b[0m invalid syntax\n"
     ]
    }
   ],
   "source": [
    "import math\n",
    "#输入三个数，如果可以构成三角形就中奖，vip概率更大\n",
    "a=eval(input('a'))\n",
    "b=eval(input('b'))\n",
    "c=eval(input('c'))\n",
    "if a+b>c & b+c>a & a+c>b\n",
    "print('恭喜你中奖了')\n",
    "\n"
   ]
  },
  {
   "cell_type": "code",
   "execution_count": 6,
   "metadata": {},
   "outputs": [
    {
     "name": "stdout",
     "output_type": "stream",
     "text": [
      "['a', 'v', 'c']\n"
     ]
    }
   ],
   "source": [
    "a='a,v,c'.split(',')\n",
    "print(a)"
   ]
  },
  {
   "cell_type": "code",
   "execution_count": null,
   "metadata": {},
   "outputs": [],
   "source": [
    "a=input('请输入坐标')"
   ]
  },
  {
   "cell_type": "markdown",
   "metadata": {},
   "source": [
    "## 字符串和字符\n",
    "- 在Python中，字符串必须是在单引号或者双引号内，在多段换行的字符串中可以使用“”“\n",
    "- 在使用”“”时，给予其变量则变为字符串，否则当多行注释使用"
   ]
  },
  {
   "cell_type": "markdown",
   "metadata": {},
   "source": [
    "## ASCII码与Unicode码\n",
    "- <img src=\"../Photo/19.png\"></img>\n",
    "- <img src=\"../Photo/20.png\"></img>\n",
    "- <img src=\"../Photo/21.png\"></img>"
   ]
  },
  {
   "cell_type": "markdown",
   "metadata": {},
   "source": [
    "## 函数ord、chr\n",
    "- ord 返回ASCII码值\n",
    "- chr 返回字符"
   ]
  },
  {
   "cell_type": "code",
   "execution_count": 19,
   "metadata": {},
   "outputs": [
    {
     "data": {
      "text/plain": [
       "97"
      ]
     },
     "execution_count": 19,
     "metadata": {},
     "output_type": "execute_result"
    }
   ],
   "source": [
    "ord('a')"
   ]
  },
  {
   "cell_type": "code",
   "execution_count": 22,
   "metadata": {},
   "outputs": [
    {
     "data": {
      "text/plain": [
       "'a'"
      ]
     },
     "execution_count": 22,
     "metadata": {},
     "output_type": "execute_result"
    }
   ],
   "source": [
    "chr(97)"
   ]
  },
  {
   "cell_type": "markdown",
   "metadata": {},
   "source": [
    "## EP:\n",
    "- 利用ord与chr进行简单邮箱加密"
   ]
  },
  {
   "cell_type": "code",
   "execution_count": 1,
   "metadata": {},
   "outputs": [
    {
     "data": {
      "text/plain": [
       "'>*?B'"
      ]
     },
     "execution_count": 1,
     "metadata": {},
     "output_type": "execute_result"
    }
   ],
   "source": [
    "#4458@sb.com    方法1\n",
    "chr(ord('4')+10)+ chr(ord('4')-10)+ chr(ord('5')+10)+ chr(ord('8')+10)\n"
   ]
  },
  {
   "cell_type": "code",
   "execution_count": null,
   "metadata": {},
   "outputs": [],
   "source": [
    "#随机加密\n",
    "import random\n",
    "a=input('输入加密文本')\n",
    "c=\"\"\n",
    "d=random.randint(0,10)\n",
    "for i in a:\n",
    "    b=chr(ord(i)-d+10)\n",
    "    c+=b\n",
    "print(c)\n"
   ]
  },
  {
   "cell_type": "code",
   "execution_count": 23,
   "metadata": {},
   "outputs": [
    {
     "data": {
      "text/plain": [
       "'ab'"
      ]
     },
     "execution_count": 23,
     "metadata": {},
     "output_type": "execute_result"
    }
   ],
   "source": [
    "'a'+'b'"
   ]
  },
  {
   "cell_type": "code",
   "execution_count": 15,
   "metadata": {},
   "outputs": [
    {
     "name": "stdout",
     "output_type": "stream",
     "text": [
      "0 / 101 / 102 / 103 / 104 / 105 / 106 / 107 / 108 / 109 / 10"
     ]
    }
   ],
   "source": [
    "for i in range(10):\n",
    "    print(i,'/',10,flush =True,end=\"\")\n",
    "    "
   ]
  },
  {
   "cell_type": "code",
   "execution_count": null,
   "metadata": {},
   "outputs": [
    {
     "name": "stdout",
     "output_type": "stream",
     "text": [
      "81/1000\r"
     ]
    }
   ],
   "source": [
    "import time\n",
    "import os\n",
    "for i in range(1000):\n",
    "    print('%s/%s\\r'%(i,1000),flush=True ,end=\"\") #%s/%s格式化输出\n",
    "    time.sleep(1)\n",
    "    os.system('say OK')"
   ]
  },
  {
   "cell_type": "code",
   "execution_count": 8,
   "metadata": {},
   "outputs": [
    {
     "name": "stdout",
     "output_type": "stream",
     "text": [
      "####################################################################################################"
     ]
    }
   ],
   "source": [
    "import time\n",
    "for i in range (100):\n",
    "    print('#',end=\"\")\n",
    "    time.sleep(0.5)"
   ]
  },
  {
   "cell_type": "code",
   "execution_count": 20,
   "metadata": {},
   "outputs": [
    {
     "ename": "ModuleNotFoundError",
     "evalue": "No module named 'Ture'",
     "output_type": "error",
     "traceback": [
      "\u001b[1;31m---------------------------------------------------------------------------\u001b[0m",
      "\u001b[1;31mModuleNotFoundError\u001b[0m                       Traceback (most recent call last)",
      "\u001b[1;32m<ipython-input-20-94e069a05649>\u001b[0m in \u001b[0;36m<module>\u001b[1;34m\u001b[0m\n\u001b[1;32m----> 1\u001b[1;33m \u001b[1;32mimport\u001b[0m \u001b[0mTure\u001b[0m\u001b[1;33m\u001b[0m\u001b[1;33m\u001b[0m\u001b[0m\n\u001b[0m\u001b[0;32m      2\u001b[0m \u001b[1;32mfor\u001b[0m \u001b[0mi\u001b[0m \u001b[1;32min\u001b[0m \u001b[0mrange\u001b[0m \u001b[1;33m(\u001b[0m\u001b[1;36m100\u001b[0m\u001b[1;33m)\u001b[0m\u001b[1;33m:\u001b[0m\u001b[1;33m\u001b[0m\u001b[1;33m\u001b[0m\u001b[0m\n\u001b[0;32m      3\u001b[0m     \u001b[0mprint\u001b[0m\u001b[1;33m(\u001b[0m\u001b[1;34m'%s %s\\r'\u001b[0m\u001b[1;33m%\u001b[0m\u001b[1;33m(\u001b[0m\u001b[1;33m(\u001b[0m\u001b[0mi\u001b[0m\u001b[1;33m+\u001b[0m\u001b[1;36m1\u001b[0m\u001b[1;33m)\u001b[0m\u001b[1;33m//\u001b[0m\u001b[1;36m5\u001b[0m\u001b[1;33m*\u001b[0m\u001b[1;34m'#'\u001b[0m\u001b[1;33m,\u001b[0m\u001b[0mi\u001b[0m\u001b[1;33m+\u001b[0m\u001b[1;36m1\u001b[0m\u001b[1;33m)\u001b[0m\u001b[1;33m,\u001b[0m\u001b[0mflush\u001b[0m\u001b[1;33m=\u001b[0m\u001b[0mTure\u001b[0m \u001b[1;33m,\u001b[0m\u001b[0mend\u001b[0m\u001b[1;33m=\u001b[0m\u001b[1;34m\"\"\u001b[0m\u001b[1;33m)\u001b[0m\u001b[1;33m\u001b[0m\u001b[1;33m\u001b[0m\u001b[0m\n\u001b[0;32m      4\u001b[0m     \u001b[0mtime\u001b[0m\u001b[1;33m.\u001b[0m\u001b[0msleep\u001b[0m\u001b[1;33m(\u001b[0m\u001b[1;36m0.5\u001b[0m\u001b[1;33m)\u001b[0m\u001b[1;33m\u001b[0m\u001b[1;33m\u001b[0m\u001b[0m\n",
      "\u001b[1;31mModuleNotFoundError\u001b[0m: No module named 'Ture'"
     ]
    }
   ],
   "source": [
    "import Ture\n",
    "for i in range (100):\n",
    "    print('%s %s\\r'%((i+1)//5*'#',i+1),flush=Ture ,end=\"\")\n",
    "    time.sleep(0.5)"
   ]
  },
  {
   "cell_type": "code",
   "execution_count": 15,
   "metadata": {},
   "outputs": [
    {
     "name": "stdout",
     "output_type": "stream",
     "text": [
      "http://op.hanhande.net/shtml/op_wz/list_2602_3.shtml\n"
     ]
    }
   ],
   "source": [
    "a='http://op.hanhande.net/shtml/op_wz/list_2602_3.shtml'\n",
    "print(a)"
   ]
  },
  {
   "cell_type": "code",
   "execution_count": 34,
   "metadata": {},
   "outputs": [
    {
     "name": "stdout",
     "output_type": "stream",
     "text": [
      "http://op.hanhande.net/shtml/op_wz/list_2602_1.shtml\n",
      "http://op.hanhande.net/shtml/op_wz/list_2602_2.shtml\n",
      "http://op.hanhande.net/shtml/op_wz/list_2602_3.shtml\n",
      "http://op.hanhande.net/shtml/op_wz/list_2602_4.shtml\n",
      "http://op.hanhande.net/shtml/op_wz/list_2602_5.shtml\n",
      "http://op.hanhande.net/shtml/op_wz/list_2602_6.shtml\n",
      "http://op.hanhande.net/shtml/op_wz/list_2602_7.shtml\n",
      "http://op.hanhande.net/shtml/op_wz/list_2602_8.shtml\n",
      "http://op.hanhande.net/shtml/op_wz/list_2602_9.shtml\n",
      "http://op.hanhande.net/shtml/op_wz/list_2602_10.shtml\n",
      "http://op.hanhande.net/shtml/op_wz/list_2602_11.shtml\n",
      "http://op.hanhande.net/shtml/op_wz/list_2602_12.shtml\n",
      "http://op.hanhande.net/shtml/op_wz/list_2602_13.shtml\n",
      "http://op.hanhande.net/shtml/op_wz/list_2602_14.shtml\n",
      "http://op.hanhande.net/shtml/op_wz/list_2602_15.shtml\n",
      "http://op.hanhande.net/shtml/op_wz/list_2602_16.shtml\n",
      "http://op.hanhande.net/shtml/op_wz/list_2602_17.shtml\n",
      "http://op.hanhande.net/shtml/op_wz/list_2602_18.shtml\n",
      "http://op.hanhande.net/shtml/op_wz/list_2602_19.shtml\n",
      "http://op.hanhande.net/shtml/op_wz/list_2602_20.shtml\n",
      "http://op.hanhande.net/shtml/op_wz/list_2602_21.shtml\n",
      "http://op.hanhande.net/shtml/op_wz/list_2602_22.shtml\n",
      "http://op.hanhande.net/shtml/op_wz/list_2602_23.shtml\n",
      "http://op.hanhande.net/shtml/op_wz/list_2602_24.shtml\n",
      "http://op.hanhande.net/shtml/op_wz/list_2602_25.shtml\n",
      "http://op.hanhande.net/shtml/op_wz/list_2602_26.shtml\n",
      "http://op.hanhande.net/shtml/op_wz/list_2602_27.shtml\n"
     ]
    }
   ],
   "source": [
    "a='http://op.hanhande.net/shtml/op_wz/list_2602_'\n",
    "for i in range(1,28):\n",
    "    url=a +str(i) + '.shtml'\n",
    "    print(url)"
   ]
  },
  {
   "cell_type": "code",
   "execution_count": 33,
   "metadata": {},
   "outputs": [
    {
     "name": "stdout",
     "output_type": "stream",
     "text": [
      "http://op.hanhande.net/shtml/op_wz/list_2602_1.shtml\n",
      "http://op.hanhande.net/shtml/op_wz/list_2602_2.shtml\n",
      "http://op.hanhande.net/shtml/op_wz/list_2602_3.shtml\n",
      "http://op.hanhande.net/shtml/op_wz/list_2602_4.shtml\n",
      "http://op.hanhande.net/shtml/op_wz/list_2602_5.shtml\n",
      "http://op.hanhande.net/shtml/op_wz/list_2602_6.shtml\n",
      "http://op.hanhande.net/shtml/op_wz/list_2602_7.shtml\n",
      "http://op.hanhande.net/shtml/op_wz/list_2602_8.shtml\n",
      "http://op.hanhande.net/shtml/op_wz/list_2602_9.shtml\n",
      "http://op.hanhande.net/shtml/op_wz/list_2602_10.shtml\n",
      "http://op.hanhande.net/shtml/op_wz/list_2602_11.shtml\n",
      "http://op.hanhande.net/shtml/op_wz/list_2602_12.shtml\n",
      "http://op.hanhande.net/shtml/op_wz/list_2602_13.shtml\n",
      "http://op.hanhande.net/shtml/op_wz/list_2602_14.shtml\n",
      "http://op.hanhande.net/shtml/op_wz/list_2602_15.shtml\n",
      "http://op.hanhande.net/shtml/op_wz/list_2602_16.shtml\n",
      "http://op.hanhande.net/shtml/op_wz/list_2602_17.shtml\n",
      "http://op.hanhande.net/shtml/op_wz/list_2602_18.shtml\n",
      "http://op.hanhande.net/shtml/op_wz/list_2602_19.shtml\n",
      "http://op.hanhande.net/shtml/op_wz/list_2602_20.shtml\n",
      "http://op.hanhande.net/shtml/op_wz/list_2602_21.shtml\n",
      "http://op.hanhande.net/shtml/op_wz/list_2602_22.shtml\n",
      "http://op.hanhande.net/shtml/op_wz/list_2602_23.shtml\n",
      "http://op.hanhande.net/shtml/op_wz/list_2602_24.shtml\n",
      "http://op.hanhande.net/shtml/op_wz/list_2602_25.shtml\n",
      "http://op.hanhande.net/shtml/op_wz/list_2602_26.shtml\n",
      "http://op.hanhande.net/shtml/op_wz/list_2602_27.shtml\n"
     ]
    }
   ],
   "source": [
    "a='http://op.hanhande.net/shtml/op_wz/list_2602_'\n",
    "for i in range(1,28):\n",
    "    url=\"\".join((a,str(i)))\n",
    "    URL=\"\".join((url,'.shtml'))\n",
    "    print(URL)"
   ]
  },
  {
   "cell_type": "code",
   "execution_count": 25,
   "metadata": {},
   "outputs": [
    {
     "data": {
      "text/plain": [
       "'zhaorui is a 1 good girl '"
      ]
     },
     "execution_count": 25,
     "metadata": {},
     "output_type": "execute_result"
    }
   ],
   "source": [
    "'%s is a %d good girl '%('zhaorui',1)"
   ]
  },
  {
   "cell_type": "code",
   "execution_count": 24,
   "metadata": {},
   "outputs": [
    {
     "data": {
      "text/plain": [
       "'aaaaaaaaaa'"
      ]
     },
     "execution_count": 24,
     "metadata": {},
     "output_type": "execute_result"
    }
   ],
   "source": [
    "'a'*10"
   ]
  },
  {
   "cell_type": "markdown",
   "metadata": {},
   "source": [
    "## 转义序列 \\\n",
    "- a = \"He said,\"Johon's program is easy to read\"\n",
    "- 转掉它原来的意思\n",
    "- 一般情况下只有当语句与默认方法相撞的时候，就需要转义"
   ]
  },
  {
   "cell_type": "markdown",
   "metadata": {},
   "source": [
    "1.三引号和单/双引号的区别是:\n",
    "- 三引号内可以使用换行,单/双引号\n",
    "- 三引号如果不加变量的话,代表是注释(可以换行注释)\n",
    "\n",
    "2.单/双引号内是不是可以加入单/双引号的,但是可以加入双/单.\n",
    "\n",
    "3.如果非要头铁,可以使用\"\\\\\"(转义字符),表示转掉它原来的意思."
   ]
  },
  {
   "cell_type": "code",
   "execution_count": null,
   "metadata": {},
   "outputs": [],
   "source": [
    "b=\"zhaorui\\s\""
   ]
  },
  {
   "cell_type": "markdown",
   "metadata": {},
   "source": [
    "## 高级print\n",
    "- 参数 end： 以什么方式结束打印\n",
    "- 默认换行打印"
   ]
  },
  {
   "cell_type": "code",
   "execution_count": 1,
   "metadata": {},
   "outputs": [
    {
     "name": "stdout",
     "output_type": "stream",
     "text": [
      "zhao*******ok\n"
     ]
    }
   ],
   "source": [
    "print('zhao',end=\"*******\")\n",
    "print('ok')"
   ]
  },
  {
   "cell_type": "code",
   "execution_count": null,
   "metadata": {},
   "outputs": [],
   "source": [
    "print('a','b')"
   ]
  },
  {
   "cell_type": "markdown",
   "metadata": {},
   "source": [
    "## 函数str\n",
    "- 将类型强制转换成字符串类型\n",
    "- 其他一些以后会学到(list,set,tuple...)"
   ]
  },
  {
   "cell_type": "markdown",
   "metadata": {},
   "source": [
    "## 字符串连接操作\n",
    "- 直接使用 “+” \n",
    "- join() 函数 "
   ]
  },
  {
   "cell_type": "markdown",
   "metadata": {},
   "source": [
    "## EP：\n",
    "- 将 “Welcome” “to” \"Python\" 拼接\n",
    "- 将int型 100 与 “joker is a bad man” 拼接\n",
    "- 从控制台读取字符串\n",
    "> 输入一个名字返回夸奖此人"
   ]
  },
  {
   "cell_type": "markdown",
   "metadata": {},
   "source": [
    "## 实例研究：最小数量硬币\n",
    "- 开发一个程序，让用户输入总金额，这是一个用美元和美分表示的浮点值，返回一个由美元、两角五分的硬币、一角的硬币、五分硬币、以及美分个数\n",
    "<img src=\"../Photo/22.png\"></img>"
   ]
  },
  {
   "cell_type": "markdown",
   "metadata": {},
   "source": [
    "- Python弱项，对于浮点型的处理并不是很好，但是处理数据的时候使用的是Numpy类型\n",
    "<img src=\"../Photo/23.png\"></img>"
   ]
  },
  {
   "cell_type": "markdown",
   "metadata": {},
   "source": [
    "## id与type\n",
    "- id 查看内存地址，在判断语句中将会使用\n",
    "- type 查看元素类型"
   ]
  },
  {
   "cell_type": "markdown",
   "metadata": {},
   "source": [
    "## 其他格式化语句见书"
   ]
  },
  {
   "cell_type": "markdown",
   "metadata": {},
   "source": [
    "# Homework\n",
    "- 1\n",
    "<img src=\"../Photo/24.png\"><img>\n",
    "<img src=\"../Photo/25.png\"><img>"
   ]
  },
  {
   "cell_type": "code",
   "execution_count": 7,
   "metadata": {},
   "outputs": [
    {
     "name": "stdout",
     "output_type": "stream",
     "text": [
      "请输入一顶点到中心的距离：1\n",
      "五边形的面积是：  2.38\n"
     ]
    }
   ],
   "source": [
    "import math\n",
    "r=eval(input('请输入一顶点到中心的距离：'))\n",
    "s=2* r * math.sin(math.pi/5)\n",
    "area=5*s*s/(4* math.tan(math.pi/5))\n",
    "print('五边形的面积是：',format(area,'5.2f'))"
   ]
  },
  {
   "cell_type": "markdown",
   "metadata": {},
   "source": [
    "- 2\n",
    "<img src=\"../Photo/26.png\"><img>"
   ]
  },
  {
   "cell_type": "code",
   "execution_count": 14,
   "metadata": {},
   "outputs": [
    {
     "name": "stdout",
     "output_type": "stream",
     "text": [
      "x1 ,y1 39.55,-116.25\n",
      "x2 ,y2 41.5,87.37\n",
      "10691.79183231593\n"
     ]
    }
   ],
   "source": [
    "import math\n",
    "x1,y1=eval(input('x1 ,y1 '))\n",
    "x2,y2=eval(input('x2 ,y2 '))\n",
    "radius=6371.01\n",
    "x11=math.radians(x1)#将度数转换成弧度数\n",
    "x22=math.radians(x2)\n",
    "y11=math.radians(y1)\n",
    "y22=math.radians(y2)\n",
    "part_1=((math.sin(x11))*(math.sin(x22))+(math.cos(x11))*(math.cos(x22))*(math.cos(y11-y22)))\n",
    "d=radius*math.acos(part_1)\n",
    "print(d)\n"
   ]
  },
  {
   "cell_type": "markdown",
   "metadata": {},
   "source": [
    "- 3\n",
    "<img src=\"../Photo/27.png\"><img>"
   ]
  },
  {
   "cell_type": "code",
   "execution_count": 12,
   "metadata": {},
   "outputs": [
    {
     "name": "stdout",
     "output_type": "stream",
     "text": [
      "请输入五角形的边长5.5\n",
      "五角形的面积是： 52.04\n"
     ]
    }
   ],
   "source": [
    "import math \n",
    "s=eval(input('请输入五角形的边长'))\n",
    "part_1=4*math.tan(math.pi/5)\n",
    "area=(5*(math.pow(s,2)))/part_1\n",
    "print('五角形的面积是：',format(area,'5.2f'))\n"
   ]
  },
  {
   "cell_type": "markdown",
   "metadata": {},
   "source": [
    "- 4\n",
    "<img src=\"../Photo/28.png\"><img>"
   ]
  },
  {
   "cell_type": "code",
   "execution_count": 11,
   "metadata": {},
   "outputs": [
    {
     "name": "stdout",
     "output_type": "stream",
     "text": [
      "请输入边数5\n",
      "请输入正多边形边长6.5\n",
      "72.69017017488386\n"
     ]
    }
   ],
   "source": [
    "import math \n",
    "n=eval(input('请输入边数'))\n",
    "s=eval(input('请输入正多边形边长'))\n",
    "part_1=4*math.tan(math.pi/n)\n",
    "area=(n*(math.pow(s,2)))/part_1\n",
    "print(area)\n",
    "\n"
   ]
  },
  {
   "cell_type": "markdown",
   "metadata": {},
   "source": [
    "- 5\n",
    "<img src=\"../Photo/29.png\"><img>\n",
    "<img src=\"../Photo/30.png\"><img>"
   ]
  },
  {
   "cell_type": "code",
   "execution_count": 21,
   "metadata": {},
   "outputs": [
    {
     "name": "stdout",
     "output_type": "stream",
     "text": [
      "请输入一个ASII码值:69\n",
      "69 对应的字符为: E\n"
     ]
    }
   ],
   "source": [
    "a=int(input(\"请输入一个ASII码值:\"))\n",
    "print(a,\"对应的字符为:\",chr(a))\n"
   ]
  },
  {
   "cell_type": "markdown",
   "metadata": {},
   "source": [
    "- 6\n",
    "<img src=\"../Photo/31.png\"><img>"
   ]
  },
  {
   "cell_type": "code",
   "execution_count": 23,
   "metadata": {},
   "outputs": [
    {
     "ename": "SyntaxError",
     "evalue": "invalid syntax (<ipython-input-23-480924c94493>, line 13)",
     "output_type": "error",
     "traceback": [
      "\u001b[1;36m  File \u001b[1;32m\"<ipython-input-23-480924c94493>\"\u001b[1;36m, line \u001b[1;32m13\u001b[0m\n\u001b[1;33m    print(\"deductions\":)\u001b[0m\n\u001b[1;37m                      ^\u001b[0m\n\u001b[1;31mSyntaxError\u001b[0m\u001b[1;31m:\u001b[0m invalid syntax\n"
     ]
    }
   ],
   "source": [
    "name=input('请输入员工姓名：')\n",
    "hours=eval(input('请输入一周工作时间：'))\n",
    "payrate=eval(input('请输入每小时报酬：'))\n",
    "federalrate=eval(input('联邦预扣税率：'))\n",
    "staterate=eval(input('州预扣税率：'))\n",
    "grosspay=hours * payrate\n",
    "federal =hours *  payrate * federalrate\n",
    "state=hours * payrate*staterate\n",
    "netpay=hours*payrate-federal-state\n",
    "total=federal+state\n",
    "print('payrate:',rate)\n",
    "print(\"Grosspay:\",gross)\n",
    "print(\"deductions\":)\n",
    "print(\"\\tFederal withholiding(20.0%):kate\")\n",
    "\n",
    "print('name')"
   ]
  },
  {
   "cell_type": "markdown",
   "metadata": {},
   "source": [
    "- 7\n",
    "<img src=\"../Photo/32.png\"><img>"
   ]
  },
  {
   "cell_type": "code",
   "execution_count": 2,
   "metadata": {},
   "outputs": [
    {
     "name": "stdout",
     "output_type": "stream",
     "text": [
      "请输入一个四位整数1234\n",
      "4364.634\n"
     ]
    }
   ],
   "source": [
    "num=eval(input('请输入一个四位整数'))\n",
    "g=num%10\n",
    "s=num%100/10\n",
    "b=num%1000/100\n",
    "q=num%10000/1000\n",
    "opnum=g*1000+s*100+b*10+q\n",
    "print(opnum)"
   ]
  },
  {
   "cell_type": "code",
   "execution_count": 7,
   "metadata": {},
   "outputs": [
    {
     "name": "stdout",
     "output_type": "stream",
     "text": [
      "请输入一个四位整数1\n"
     ]
    },
    {
     "ename": "TypeError",
     "evalue": "'int' object is not subscriptable",
     "output_type": "error",
     "traceback": [
      "\u001b[1;31m---------------------------------------------------------------------------\u001b[0m",
      "\u001b[1;31mTypeError\u001b[0m                                 Traceback (most recent call last)",
      "\u001b[1;32m<ipython-input-7-a49a3e122753>\u001b[0m in \u001b[0;36m<module>\u001b[1;34m\u001b[0m\n\u001b[0;32m      4\u001b[0m     \u001b[0mb\u001b[0m\u001b[1;33m=\u001b[0m\u001b[1;33m-\u001b[0m\u001b[1;33m(\u001b[0m\u001b[0ma\u001b[0m\u001b[1;33m[\u001b[0m\u001b[1;33m:\u001b[0m\u001b[1;33m:\u001b[0m\u001b[1;33m-\u001b[0m\u001b[1;36m1\u001b[0m\u001b[1;33m]\u001b[0m\u001b[1;33m)\u001b[0m\u001b[1;33m\u001b[0m\u001b[1;33m\u001b[0m\u001b[0m\n\u001b[0;32m      5\u001b[0m \u001b[1;32melse\u001b[0m\u001b[1;33m:\u001b[0m\u001b[1;33m\u001b[0m\u001b[1;33m\u001b[0m\u001b[0m\n\u001b[1;32m----> 6\u001b[1;33m     \u001b[0mb\u001b[0m\u001b[1;33m=\u001b[0m\u001b[1;33m-\u001b[0m\u001b[1;33m(\u001b[0m\u001b[0ma\u001b[0m\u001b[1;33m[\u001b[0m\u001b[1;33m:\u001b[0m\u001b[1;33m:\u001b[0m\u001b[1;33m-\u001b[0m\u001b[1;36m1\u001b[0m\u001b[1;33m]\u001b[0m\u001b[1;33m)\u001b[0m\u001b[1;33m\u001b[0m\u001b[1;33m\u001b[0m\u001b[0m\n\u001b[0m\u001b[0;32m      7\u001b[0m     \u001b[0mprint\u001b[0m\u001b[1;33m(\u001b[0m\u001b[0mb\u001b[0m\u001b[1;33m)\u001b[0m\u001b[1;33m\u001b[0m\u001b[1;33m\u001b[0m\u001b[0m\n",
      "\u001b[1;31mTypeError\u001b[0m: 'int' object is not subscriptable"
     ]
    }
   ],
   "source": [
    "a=eval(input('请输入一个四位整数'))\n",
    "if int(a)<0:\n",
    "    a=a[1:]\n",
    "    b=-(a[::-1])\n",
    "else:\n",
    "    b=-(a[::-1])\n",
    "    print(b)\n"
   ]
  },
  {
   "cell_type": "markdown",
   "metadata": {},
   "source": [
    "- 8 进阶：\n",
    "> 加密一串文本，并将解密后的文件写入本地保存"
   ]
  },
  {
   "cell_type": "code",
   "execution_count": 25,
   "metadata": {},
   "outputs": [
    {
     "name": "stdout",
     "output_type": "stream",
     "text": [
      "输入加密文本nishi\n",
      "xs}rs\n"
     ]
    }
   ],
   "source": [
    "#随机加密\n",
    "import random\n",
    "a=input('输入加密文本')\n",
    "c=\"\"\n",
    "d=random.randint(0,10)\n",
    "for i in a:\n",
    "    b=chr(ord(i)-d+10)\n",
    "    c+=b\n",
    "print(c)"
   ]
  },
  {
   "cell_type": "code",
   "execution_count": null,
   "metadata": {},
   "outputs": [],
   "source": []
  }
 ],
 "metadata": {
  "kernelspec": {
   "display_name": "Python 3",
   "language": "python",
   "name": "python3"
  },
  "language_info": {
   "codemirror_mode": {
    "name": "ipython",
    "version": 3
   },
   "file_extension": ".py",
   "mimetype": "text/x-python",
   "name": "python",
   "nbconvert_exporter": "python",
   "pygments_lexer": "ipython3",
   "version": "3.7.3"
  }
 },
 "nbformat": 4,
 "nbformat_minor": 2
}
